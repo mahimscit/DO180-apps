{
  "nbformat": 4,
  "nbformat_minor": 0,
  "metadata": {
    "colab": {
      "provenance": [],
      "authorship_tag": "ABX9TyPxq2WIldsFRUyG3dSkrazw",
      "include_colab_link": true
    },
    "kernelspec": {
      "name": "python3",
      "display_name": "Python 3"
    },
    "language_info": {
      "name": "python"
    }
  },
  "cells": [
    {
      "cell_type": "markdown",
      "metadata": {
        "id": "view-in-github",
        "colab_type": "text"
      },
      "source": [
        "<a href=\"https://colab.research.google.com/github/mahimscit/DO180-apps/blob/master/SQL2.ipynb\" target=\"_parent\"><img src=\"https://colab.research.google.com/assets/colab-badge.svg\" alt=\"Open In Colab\"/></a>"
      ]
    },
    {
      "cell_type": "markdown",
      "source": [
        "SQL Mandatory Assignment 2"
      ],
      "metadata": {
        "id": "EvPQ4CgWhAXe"
      }
    },
    {
      "cell_type": "markdown",
      "source": [
        "1. Create a user-defined functions to stuff the Chicken into ‘Quick Bites’. Eg: ‘Quick\n",
        "Chicken Bites’."
      ],
      "metadata": {
        "id": "yS0qY5lHhByp"
      }
    },
    {
      "cell_type": "code",
      "source": [
        "import sqlite3\n",
        "\n",
        "conn = sqlite3.connect('test.db')\n",
        "cursor = conn.cursor()\n",
        "\n",
        "cursor.execute('''\n",
        "    CREATE TABLE IF NOT EXISTS Menu (\n",
        "        dish_name TEXT\n",
        "    )\n",
        "''')\n",
        "conn.commit()"
      ],
      "metadata": {
        "id": "p-d8KH0rjeE-"
      },
      "execution_count": 7,
      "outputs": []
    },
    {
      "cell_type": "code",
      "source": [
        "cursor.execute(\"INSERT INTO Menu (dish_name) VALUES ('Quick Bites'), ('Burger'), ('Pizza')\")\n",
        "conn.commit()"
      ],
      "metadata": {
        "id": "jVBc5kw1jjWV"
      },
      "execution_count": 8,
      "outputs": []
    },
    {
      "cell_type": "code",
      "source": [
        "import sqlite3\n",
        "\n",
        "conn = sqlite3.connect('test.db')\n",
        "cursor = conn.cursor()\n",
        "\n",
        "def stuff_chicken(dish_name):\n",
        "    \"\"\"Stuffs 'Chicken' into 'Quick Bites' if present in the dish name.\"\"\"\n",
        "    if 'Quick Bites' in dish_name:\n",
        "        return dish_name.replace('Quick Bites', 'Quick Chicken Bites')\n",
        "    else:\n",
        "        return dish_name\n",
        "\n",
        "conn.create_function('stuff_chicken', 1, stuff_chicken)\n",
        "\n",
        "\n",
        "cursor.execute(\"SELECT stuff_chicken(dish_name) FROM Menu\")\n",
        "results = cursor.fetchall()\n",
        "\n",
        "for row in results:\n",
        "    print(row[0])"
      ],
      "metadata": {
        "colab": {
          "base_uri": "https://localhost:8080/"
        },
        "id": "Z_qZOKhCjFJY",
        "outputId": "775a374d-db6b-437b-fcd4-e6f1136d31df"
      },
      "execution_count": 10,
      "outputs": [
        {
          "output_type": "stream",
          "name": "stdout",
          "text": [
            "Quick Chicken Bites\n",
            "Burger\n",
            "Pizza\n"
          ]
        }
      ]
    },
    {
      "cell_type": "markdown",
      "source": [
        "2. Use the function to display the restaurant name and cuisine type which has the\n",
        "maximum number of rating."
      ],
      "metadata": {
        "id": "Uz_881T9j6zY"
      }
    },
    {
      "cell_type": "code",
      "source": [
        "import sqlite3\n",
        "\n",
        "conn = sqlite3.connect('test.db')\n",
        "cursor = conn.cursor()\n",
        "\n",
        "cursor.execute('''\n",
        "    CREATE TABLE IF NOT EXISTS Restaurants (\n",
        "        name TEXT,\n",
        "        cuisine TEXT,\n",
        "        rating_count INTEGER\n",
        "    )\n",
        "''')\n",
        "conn.commit()\n",
        "\n",
        "restaurants_data = [\n",
        "    ('Spicy Bites', 'Indian', 1500),\n",
        "    ('Burger King', 'American', 2000),\n",
        "    ('Pizza Hut', 'Italian', 1800),\n",
        "    ('Sushi Heaven', 'Japanese', 1200),\n",
        "    ('Taco Bell', 'Mexican', 1700)\n",
        "]\n",
        "\n",
        "cursor.executemany(\"INSERT INTO Restaurants (name, cuisine, rating_count) VALUES (?, ?, ?)\", restaurants_data)\n",
        "conn.commit()\n",
        "\n",
        "cursor.execute('''\n",
        "    SELECT name, cuisine\n",
        "    FROM Restaurants\n",
        "    ORDER BY rating_count DESC\n",
        "    LIMIT 1\n",
        "''')\n",
        "\n",
        "result = cursor.fetchone()\n",
        "\n",
        "if result:\n",
        "    restaurant_name, cuisine_type = result\n",
        "    print(f\"Restaurant with maximum ratings: {restaurant_name} ({cuisine_type})\")\n",
        "else:\n",
        "    print(\"No restaurants found in the database.\")\n",
        "\n"
      ],
      "metadata": {
        "colab": {
          "base_uri": "https://localhost:8080/"
        },
        "id": "NX5HV-xmkOgs",
        "outputId": "c52213e9-2b36-4153-9db0-077447a3edfe"
      },
      "execution_count": 16,
      "outputs": [
        {
          "output_type": "stream",
          "name": "stdout",
          "text": [
            "Restaurant with maximum ratings: Burger King (American)\n"
          ]
        }
      ]
    },
    {
      "cell_type": "markdown",
      "source": [
        "3. Create a Rating Status column to display the rating as ‘Excellent’ if it has more the 4\n",
        "start rating,\n",
        "‘Good’ if it has above 3.5 and below 5 star rating,\n",
        "and below 3.5 and ‘Bad’ if it is below 3 star rating"
      ],
      "metadata": {
        "id": "52Y_bniRlHUt"
      }
    },
    {
      "cell_type": "code",
      "source": [
        "import sqlite3\n",
        "\n",
        "conn = sqlite3.connect('test.db')\n",
        "cursor = conn.cursor()\n",
        "\n",
        "\n",
        "update_query = \"\"\"\n",
        "UPDATE Restaurants\n",
        "SET RatingStatus = CASE\n",
        "    WHEN rating_count > 1900 THEN 'Excellent'\n",
        "    WHEN rating_count BETWEEN 1600 AND 1900 THEN 'Very Good'\n",
        "    WHEN rating_count BETWEEN 1200 AND 1599 THEN 'Good'\n",
        "    WHEN rating_count BETWEEN 800 AND 1199 THEN 'Average'\n",
        "    ELSE 'Poor'\n",
        "END;\n",
        "\"\"\"\n",
        "cursor.execute(update_query)\n",
        "conn.commit()\n",
        "\n",
        "cursor.execute(\"SELECT name, cuisine, RatingStatus FROM Restaurants\")\n",
        "results = cursor.fetchall()\n",
        "\n",
        "for row in results:\n",
        "    restaurant_name, cuisine_type, rating_status = row\n",
        "    print(f\"Restaurant: {restaurant_name} ({cuisine_type}), Rating Status: {rating_status}\")\n",
        "\n",
        "\n"
      ],
      "metadata": {
        "colab": {
          "base_uri": "https://localhost:8080/"
        },
        "id": "Ja5TJWfNnKB_",
        "outputId": "8e4b6ea6-f14f-46c5-d3f7-904505d88dfe"
      },
      "execution_count": 25,
      "outputs": [
        {
          "output_type": "stream",
          "name": "stdout",
          "text": [
            "Restaurant: Spicy Bites (Indian), Rating Status: Good\n",
            "Restaurant: Burger King (American), Rating Status: Excellent\n",
            "Restaurant: Pizza Hut (Italian), Rating Status: Very Good\n",
            "Restaurant: Sushi Heaven (Japanese), Rating Status: Good\n",
            "Restaurant: Taco Bell (Mexican), Rating Status: Very Good\n",
            "Restaurant: Spicy Bites (Indian), Rating Status: Good\n",
            "Restaurant: Burger King (American), Rating Status: Excellent\n",
            "Restaurant: Pizza Hut (Italian), Rating Status: Very Good\n",
            "Restaurant: Sushi Heaven (Japanese), Rating Status: Good\n",
            "Restaurant: Taco Bell (Mexican), Rating Status: Very Good\n",
            "Restaurant: Spicy Bites (Indian), Rating Status: Good\n",
            "Restaurant: Burger King (American), Rating Status: Excellent\n",
            "Restaurant: Pizza Hut (Italian), Rating Status: Very Good\n",
            "Restaurant: Sushi Heaven (Japanese), Rating Status: Good\n",
            "Restaurant: Taco Bell (Mexican), Rating Status: Very Good\n"
          ]
        }
      ]
    },
    {
      "cell_type": "markdown",
      "source": [
        "4. Find the Ceil, floor and absolute values of the rating column and display the current date\n",
        "and separately display the year, month_name and day"
      ],
      "metadata": {
        "id": "dpLiufqaoxYX"
      }
    },
    {
      "cell_type": "code",
      "source": [
        "import sqlite3\n",
        "import math\n",
        "from datetime import date\n",
        "\n",
        "conn = sqlite3.connect('test.db')\n",
        "cursor = conn.cursor()\n",
        "\n",
        "cursor.execute(\"\"\"\n",
        "SELECT\n",
        "    rating_count,\n",
        "    CAST(CEILING(rating_count) AS INT) AS rating_ceil,  -- Ceiling\n",
        "    CAST(FLOOR(rating_count) AS INT) AS rating_floor,    -- Floor\n",
        "    ABS(rating_count) AS rating_abs                     -- Absolute\n",
        "FROM Restaurants;\n",
        "\"\"\")\n",
        "rating_results = cursor.fetchall()\n",
        "\n",
        "print(\"Ceil, Floor, and Absolute Values of Rating:\")\n",
        "for row in rating_results:\n",
        "    rating_count, rating_ceil, rating_floor, rating_abs = row\n",
        "    print(f\"Rating Count: {rating_count}, Ceil: {rating_ceil}, Floor: {rating_floor}, Absolute: {rating_abs}\")\n",
        "\n",
        "current_date = date.today()\n",
        "print(\"\\nCurrent Date:\", current_date)\n",
        "print(\"Year:\", current_date.year)\n",
        "print(\"Month:\", current_date.strftime(\"%B\"))\n",
        "print(\"Day:\", current_date.day)\n"
      ],
      "metadata": {
        "colab": {
          "base_uri": "https://localhost:8080/"
        },
        "id": "ktzB7Kx8oxDa",
        "outputId": "79dc3771-1e9e-4327-85d6-d49c76349b33"
      },
      "execution_count": 28,
      "outputs": [
        {
          "output_type": "stream",
          "name": "stdout",
          "text": [
            "Ceil, Floor, and Absolute Values of Rating:\n",
            "Rating Count: 1500, Ceil: 1500, Floor: 1500, Absolute: 1500\n",
            "Rating Count: 2000, Ceil: 2000, Floor: 2000, Absolute: 2000\n",
            "Rating Count: 1800, Ceil: 1800, Floor: 1800, Absolute: 1800\n",
            "Rating Count: 1200, Ceil: 1200, Floor: 1200, Absolute: 1200\n",
            "Rating Count: 1700, Ceil: 1700, Floor: 1700, Absolute: 1700\n",
            "Rating Count: 1500, Ceil: 1500, Floor: 1500, Absolute: 1500\n",
            "Rating Count: 2000, Ceil: 2000, Floor: 2000, Absolute: 2000\n",
            "Rating Count: 1800, Ceil: 1800, Floor: 1800, Absolute: 1800\n",
            "Rating Count: 1200, Ceil: 1200, Floor: 1200, Absolute: 1200\n",
            "Rating Count: 1700, Ceil: 1700, Floor: 1700, Absolute: 1700\n",
            "Rating Count: 1500, Ceil: 1500, Floor: 1500, Absolute: 1500\n",
            "Rating Count: 2000, Ceil: 2000, Floor: 2000, Absolute: 2000\n",
            "Rating Count: 1800, Ceil: 1800, Floor: 1800, Absolute: 1800\n",
            "Rating Count: 1200, Ceil: 1200, Floor: 1200, Absolute: 1200\n",
            "Rating Count: 1700, Ceil: 1700, Floor: 1700, Absolute: 1700\n",
            "\n",
            "Current Date: 2024-12-17\n",
            "Year: 2024\n",
            "Month: December\n",
            "Day: 17\n"
          ]
        }
      ]
    },
    {
      "cell_type": "markdown",
      "source": [
        "5. Display the restaurant type and total average cost using rollup."
      ],
      "metadata": {
        "id": "CBqMjH66p-CZ"
      }
    },
    {
      "cell_type": "code",
      "source": [
        "import sqlite3\n",
        "\n",
        "conn = sqlite3.connect('test.db')\n",
        "cursor = conn.cursor()\n",
        "\n",
        "query = \"\"\"\n",
        "SELECT cuisine, AVG(rating_count) AS average_cost\n",
        "FROM Restaurants\n",
        "GROUP BY cuisine\n",
        "\"\"\"\n",
        "\n",
        "cursor.execute(query)\n",
        "results = cursor.fetchall()\n",
        "\n",
        "print(\"Restaurant Type and Total Average Cost (using rating_count):\")\n",
        "for row in results:\n",
        "    cuisine, average_cost = row\n",
        "    if cuisine is None:\n",
        "        print(f\"Grand Total Average Cost: {average_cost}\")\n",
        "    else:\n",
        "        print(f\"Cuisine: {cuisine}, Average Cost: {average_cost}\")\n"
      ],
      "metadata": {
        "colab": {
          "base_uri": "https://localhost:8080/"
        },
        "id": "V9BnyE2TqETH",
        "outputId": "9bd25f5d-d645-49c6-f3b5-905bdfeef97f"
      },
      "execution_count": 30,
      "outputs": [
        {
          "output_type": "stream",
          "name": "stdout",
          "text": [
            "Restaurant Type and Total Average Cost (using rating_count):\n",
            "Cuisine: American, Average Cost: 2000.0\n",
            "Cuisine: Indian, Average Cost: 1500.0\n",
            "Cuisine: Italian, Average Cost: 1800.0\n",
            "Cuisine: Japanese, Average Cost: 1200.0\n",
            "Cuisine: Mexican, Average Cost: 1700.0\n"
          ]
        }
      ]
    }
  ]
}
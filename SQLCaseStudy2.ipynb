{
  "nbformat": 4,
  "nbformat_minor": 0,
  "metadata": {
    "colab": {
      "provenance": [],
      "authorship_tag": "ABX9TyOP6vaGjieFj/wsHR8UjVIZ",
      "include_colab_link": true
    },
    "kernelspec": {
      "name": "python3",
      "display_name": "Python 3"
    },
    "language_info": {
      "name": "python"
    }
  },
  "cells": [
    {
      "cell_type": "markdown",
      "metadata": {
        "id": "view-in-github",
        "colab_type": "text"
      },
      "source": [
        "<a href=\"https://colab.research.google.com/github/mahimscit/DO180-apps/blob/master/SQLCaseStudy2.ipynb\" target=\"_parent\"><img src=\"https://colab.research.google.com/assets/colab-badge.svg\" alt=\"Open In Colab\"/></a>"
      ]
    },
    {
      "cell_type": "markdown",
      "source": [
        "SQL Case Study - 2"
      ],
      "metadata": {
        "id": "4z-Dy2KRK9_W"
      }
    },
    {
      "cell_type": "code",
      "execution_count": 1,
      "metadata": {
        "id": "81I2GL_WK5jK"
      },
      "outputs": [],
      "source": [
        "import sqlite3\n",
        "\n",
        "conn = sqlite3.connect('TCompany.db')\n",
        "\n",
        "cursor = conn.cursor()\n",
        "\n",
        "cursor.execute('''\n",
        "CREATE TABLE LOCATION (\n",
        "  Location_ID INT PRIMARY KEY,\n",
        "  City VARCHAR(50)\n",
        ");\n",
        "''')\n",
        "\n",
        "conn.commit()\n",
        "\n",
        "conn.close()"
      ]
    },
    {
      "cell_type": "code",
      "source": [
        "import sqlite3\n",
        "\n",
        "conn = sqlite3.connect('TCompany.db')\n",
        "cursor = conn.cursor()\n",
        "\n",
        "cursor.execute(\"INSERT INTO LOCATION (Location_ID, City) VALUES (122, 'New York')\")\n",
        "cursor.execute(\"INSERT INTO LOCATION (Location_ID, City) VALUES (123, 'Dallas')\")\n",
        "cursor.execute(\"INSERT INTO LOCATION (Location_ID, City) VALUES (124, 'Chicago')\")\n",
        "cursor.execute(\"INSERT INTO LOCATION (Location_ID, City) VALUES (167, 'Boston')\")\n",
        "\n",
        "conn.commit()\n",
        "\n",
        "conn.close()"
      ],
      "metadata": {
        "id": "yXfrBPpAMrlF"
      },
      "execution_count": 2,
      "outputs": []
    },
    {
      "cell_type": "code",
      "source": [
        "import sqlite3\n",
        "\n",
        "conn = sqlite3.connect('TCompany.db')\n",
        "cursor = conn.cursor()\n",
        "\n",
        "cursor.execute('''\n",
        "CREATE TABLE DEPARTMENT (\n",
        "  Department_Id INT PRIMARY KEY,\n",
        "  Name VARCHAR(50),\n",
        "  Location_Id INT,\n",
        "  FOREIGN KEY (Location_Id) REFERENCES LOCATION(Location_ID)\n",
        ");\n",
        "''')\n",
        "\n",
        "conn.commit()\n",
        "\n",
        "conn.close()"
      ],
      "metadata": {
        "id": "gc0u7V0bMylc"
      },
      "execution_count": 3,
      "outputs": []
    },
    {
      "cell_type": "code",
      "source": [
        "import sqlite3\n",
        "\n",
        "conn = sqlite3.connect('TCompany.db')\n",
        "cursor = conn.cursor()\n",
        "\n",
        "cursor.execute(\"INSERT INTO DEPARTMENT (Department_Id, Name, Location_Id) VALUES (10, 'Accounting', 122)\")\n",
        "cursor.execute(\"INSERT INTO DEPARTMENT (Department_Id, Name, Location_Id) VALUES (20, 'Sales', 124)\")\n",
        "cursor.execute(\"INSERT INTO DEPARTMENT (Department_Id, Name, Location_Id) VALUES (30, 'Research', 123)\")\n",
        "cursor.execute(\"INSERT INTO DEPARTMENT (Department_Id, Name, Location_Id) VALUES (40, 'Operations', 167)\")\n",
        "\n",
        "conn.commit()\n",
        "\n",
        "conn.close()"
      ],
      "metadata": {
        "id": "JgRd7sqtM_js"
      },
      "execution_count": 4,
      "outputs": []
    },
    {
      "cell_type": "code",
      "source": [
        "import sqlite3\n",
        "\n",
        "conn = sqlite3.connect('TCompany.db')\n",
        "cursor = conn.cursor()\n",
        "\n",
        "cursor.execute('''\n",
        "CREATE TABLE JOB (\n",
        "  Job_ID INT PRIMARY KEY,\n",
        "  Designation VARCHAR(50)\n",
        ");\n",
        "''')\n",
        "\n",
        "conn.commit()\n",
        "\n",
        "conn.close()"
      ],
      "metadata": {
        "id": "LkhAT8afNMWp"
      },
      "execution_count": 5,
      "outputs": []
    },
    {
      "cell_type": "code",
      "source": [
        "import sqlite3\n",
        "\n",
        "conn = sqlite3.connect('TCompany.db')\n",
        "cursor = conn.cursor()\n",
        "\n",
        "cursor.execute(\"INSERT INTO JOB (Job_ID, Designation) VALUES (667, 'CLERK')\")\n",
        "cursor.execute(\"INSERT INTO JOB (Job_ID, Designation) VALUES (668, 'STAFF')\")\n",
        "cursor.execute(\"INSERT INTO JOB (Job_ID, Designation) VALUES (669, 'ANALYST')\")\n",
        "cursor.execute(\"INSERT INTO JOB (Job_ID, Designation) VALUES (670, 'SALES_PERSON')\")\n",
        "cursor.execute(\"INSERT INTO JOB (Job_ID, Designation) VALUES (671, 'MANAGER')\")\n",
        "cursor.execute(\"INSERT INTO JOB (Job_ID, Designation) VALUES (672, 'PRESIDENT')\")\n",
        "\n",
        "conn.commit()\n",
        "\n",
        "conn.close()"
      ],
      "metadata": {
        "id": "x8o18RdONWj5"
      },
      "execution_count": 6,
      "outputs": []
    },
    {
      "cell_type": "code",
      "source": [
        "import sqlite3\n",
        "\n",
        "conn = sqlite3.connect('TCompany.db')\n",
        "cursor = conn.cursor()\n",
        "\n",
        "cursor.execute('''\n",
        "CREATE TABLE EMPLOYEE (\n",
        "  EMPLOYEE_ID INT,\n",
        "  LAST_NAME VARCHAR(20),\n",
        "  FIRST_NAME VARCHAR(20),\n",
        "  MIDDLE_NAME CHAR(1),\n",
        "  JOB_ID INT,\n",
        "  MANAGER_ID INT,\n",
        "  HIRE_DATE DATE,\n",
        "  SALARY INT,\n",
        "  COMM INT,\n",
        "  DEPARTMENT_ID INT,\n",
        "  FOREIGN KEY (JOB_ID) REFERENCES JOB(JOB_ID),\n",
        "  FOREIGN KEY (DEPARTMENT_ID) REFERENCES DEPARTMENT(DEPARTMENT_ID)\n",
        ");\n",
        "''')\n",
        "\n",
        "conn.commit()\n",
        "\n",
        "conn.close()"
      ],
      "metadata": {
        "id": "djmiI_RKNofo"
      },
      "execution_count": 7,
      "outputs": []
    },
    {
      "cell_type": "code",
      "source": [
        "import sqlite3\n",
        "\n",
        "conn = sqlite3.connect('TCompany.db')\n",
        "cursor = conn.cursor()\n",
        "\n",
        "cursor.execute(\"INSERT INTO EMPLOYEE VALUES (7369, 'SMITH', 'JOHN', 'Q', 667, 7902, '17-DEC-84', 800, NULL, 20)\")\n",
        "cursor.execute(\"INSERT INTO EMPLOYEE VALUES (7499, 'ALLEN', 'KEVIN', 'J', 670, 7698, '20-FEB-84', 1600, 300, 30)\")\n",
        "cursor.execute(\"INSERT INTO EMPLOYEE VALUES (7505, 'DOYLE', 'JEAN', 'K', 671, 7839, '04-APR-85', 2850, NULL, 30)\")\n",
        "cursor.execute(\"INSERT INTO EMPLOYEE VALUES (7506, 'DENNIS', 'LYNN', 'S', 671, 7839, '15-MAY-85', 2750, NULL, 30)\")\n",
        "cursor.execute(\"INSERT INTO EMPLOYEE VALUES (7507, 'BAKER', 'LESLIE', 'D', 671, 7839, '10-JUN-85', 2200, NULL, 40)\")\n",
        "cursor.execute(\"INSERT INTO EMPLOYEE VALUES (7521, 'WARK', 'CYNTHIA', 'D', 670, 7698, '22-FEB-85', 1250, 500, 30)\")\n",
        "\n",
        "conn.commit()\n",
        "\n",
        "conn.close()"
      ],
      "metadata": {
        "id": "-kJ2yqKnNzdD"
      },
      "execution_count": 8,
      "outputs": []
    },
    {
      "cell_type": "markdown",
      "source": [
        "Simple Queries:"
      ],
      "metadata": {
        "id": "oBW19T-uN_yg"
      }
    },
    {
      "cell_type": "markdown",
      "source": [
        "1. List all the employee details."
      ],
      "metadata": {
        "id": "mvj8IgicOK8V"
      }
    },
    {
      "cell_type": "code",
      "source": [
        "import sqlite3\n",
        "\n",
        "conn = sqlite3.connect('TCompany.db')\n",
        "cursor = conn.cursor()\n",
        "\n",
        "cursor.execute(\"SELECT * FROM EMPLOYEE\")\n",
        "\n",
        "results = cursor.fetchall()\n",
        "\n",
        "for row in results:\n",
        "    print(row)\n",
        "\n",
        "conn.close()"
      ],
      "metadata": {
        "colab": {
          "base_uri": "https://localhost:8080/"
        },
        "id": "MrAj5HS7OOsQ",
        "outputId": "63ef22e3-d7da-4087-b2dc-8a505af94782"
      },
      "execution_count": 9,
      "outputs": [
        {
          "output_type": "stream",
          "name": "stdout",
          "text": [
            "(7369, 'SMITH', 'JOHN', 'Q', 667, 7902, '17-DEC-84', 800, None, 20)\n",
            "(7499, 'ALLEN', 'KEVIN', 'J', 670, 7698, '20-FEB-84', 1600, 300, 30)\n",
            "(7505, 'DOYLE', 'JEAN', 'K', 671, 7839, '04-APR-85', 2850, None, 30)\n",
            "(7506, 'DENNIS', 'LYNN', 'S', 671, 7839, '15-MAY-85', 2750, None, 30)\n",
            "(7507, 'BAKER', 'LESLIE', 'D', 671, 7839, '10-JUN-85', 2200, None, 40)\n",
            "(7521, 'WARK', 'CYNTHIA', 'D', 670, 7698, '22-FEB-85', 1250, 500, 30)\n"
          ]
        }
      ]
    },
    {
      "cell_type": "markdown",
      "source": [
        "2. List all the department details."
      ],
      "metadata": {
        "id": "29onVJPCOYuG"
      }
    },
    {
      "cell_type": "code",
      "source": [
        "import sqlite3\n",
        "\n",
        "conn = sqlite3.connect('TCompany.db')\n",
        "cursor = conn.cursor()\n",
        "\n",
        "cursor.execute(\"SELECT * FROM DEPARTMENT\")\n",
        "\n",
        "results = cursor.fetchall()\n",
        "\n",
        "for row in results:\n",
        "    print(row)\n",
        "\n",
        "conn.close()"
      ],
      "metadata": {
        "colab": {
          "base_uri": "https://localhost:8080/"
        },
        "id": "9TDCc5CpOXty",
        "outputId": "2c8f9b58-96cf-4503-d374-507a0c0c7944"
      },
      "execution_count": 10,
      "outputs": [
        {
          "output_type": "stream",
          "name": "stdout",
          "text": [
            "(10, 'Accounting', 122)\n",
            "(20, 'Sales', 124)\n",
            "(30, 'Research', 123)\n",
            "(40, 'Operations', 167)\n"
          ]
        }
      ]
    },
    {
      "cell_type": "markdown",
      "source": [
        "3. List all job details."
      ],
      "metadata": {
        "id": "ui6ErhwyOosU"
      }
    },
    {
      "cell_type": "code",
      "source": [
        "import sqlite3\n",
        "\n",
        "conn = sqlite3.connect('TCompany.db')\n",
        "cursor = conn.cursor()\n",
        "\n",
        "cursor.execute(\"SELECT * FROM JOB\")\n",
        "\n",
        "results = cursor.fetchall()\n",
        "\n",
        "for row in results:\n",
        "    print(row)\n",
        "\n",
        "conn.close()"
      ],
      "metadata": {
        "colab": {
          "base_uri": "https://localhost:8080/"
        },
        "id": "kkL-TjszOreq",
        "outputId": "d69d22bb-2386-4d81-b88a-6a385b195515"
      },
      "execution_count": 11,
      "outputs": [
        {
          "output_type": "stream",
          "name": "stdout",
          "text": [
            "(667, 'CLERK')\n",
            "(668, 'STAFF')\n",
            "(669, 'ANALYST')\n",
            "(670, 'SALES_PERSON')\n",
            "(671, 'MANAGER')\n",
            "(672, 'PRESIDENT')\n"
          ]
        }
      ]
    },
    {
      "cell_type": "markdown",
      "source": [
        "4. List all the locations."
      ],
      "metadata": {
        "id": "E6gdMOZBO1jo"
      }
    },
    {
      "cell_type": "code",
      "source": [
        "import sqlite3\n",
        "\n",
        "conn = sqlite3.connect('TCompany.db')\n",
        "cursor = conn.cursor()\n",
        "\n",
        "cursor.execute(\"SELECT * FROM LOCATION\")\n",
        "\n",
        "results = cursor.fetchall()\n",
        "\n",
        "for row in results:\n",
        "    print(row)\n",
        "\n",
        "conn.close()"
      ],
      "metadata": {
        "colab": {
          "base_uri": "https://localhost:8080/"
        },
        "id": "UN5yD-mXO9s_",
        "outputId": "c4b40c82-b6b9-4e72-d0dd-4a4e57ba9e81"
      },
      "execution_count": 12,
      "outputs": [
        {
          "output_type": "stream",
          "name": "stdout",
          "text": [
            "(122, 'New York')\n",
            "(123, 'Dallas')\n",
            "(124, 'Chicago')\n",
            "(167, 'Boston')\n"
          ]
        }
      ]
    },
    {
      "cell_type": "markdown",
      "source": [
        "5. List out the First Name, Last Name, Salary, Commission for all Employees."
      ],
      "metadata": {
        "id": "4sFMp4-tPFn_"
      }
    },
    {
      "cell_type": "code",
      "source": [
        "import sqlite3\n",
        "\n",
        "conn = sqlite3.connect('TCompany.db')\n",
        "cursor = conn.cursor()\n",
        "\n",
        "cursor.execute(\"SELECT FIRST_NAME, LAST_NAME, SALARY, COMM FROM EMPLOYEE\")\n",
        "\n",
        "results = cursor.fetchall()\n",
        "\n",
        "for row in results:\n",
        "    print(row)\n",
        "\n",
        "conn.close()"
      ],
      "metadata": {
        "colab": {
          "base_uri": "https://localhost:8080/"
        },
        "id": "EQbuhct_PKdA",
        "outputId": "ccb4308c-c164-45aa-ab4d-740e5aa3f390"
      },
      "execution_count": 13,
      "outputs": [
        {
          "output_type": "stream",
          "name": "stdout",
          "text": [
            "('JOHN', 'SMITH', 800, None)\n",
            "('KEVIN', 'ALLEN', 1600, 300)\n",
            "('JEAN', 'DOYLE', 2850, None)\n",
            "('LYNN', 'DENNIS', 2750, None)\n",
            "('LESLIE', 'BAKER', 2200, None)\n",
            "('CYNTHIA', 'WARK', 1250, 500)\n"
          ]
        }
      ]
    },
    {
      "cell_type": "markdown",
      "source": [
        "6. List out the Employee ID, Last Name, Department ID for all employees and\n",
        "alias\n",
        "Employee ID as \"ID of the Employee\", Last Name as \"Name of the\n",
        "Employee\", Department ID as \"Dep_id\"."
      ],
      "metadata": {
        "id": "JAeom6yxPTIh"
      }
    },
    {
      "cell_type": "code",
      "source": [
        "import sqlite3\n",
        "\n",
        "conn = sqlite3.connect('TCompany.db')\n",
        "cursor = conn.cursor()\n",
        "\n",
        "cursor.execute('''\n",
        "SELECT\n",
        "    EMPLOYEE_ID AS \"ID of the Employee\",\n",
        "    LAST_NAME AS \"Name of the Employee\",\n",
        "    DEPARTMENT_ID AS \"Dep_id\"\n",
        "FROM\n",
        "    EMPLOYEE\n",
        "''')\n",
        "\n",
        "results = cursor.fetchall()\n",
        "\n",
        "for row in results:\n",
        "    print(row)\n",
        "\n",
        "conn.close()"
      ],
      "metadata": {
        "colab": {
          "base_uri": "https://localhost:8080/"
        },
        "id": "nuocpjqNPX8y",
        "outputId": "c2cae11d-cba2-45f8-9ce4-67e5037c892b"
      },
      "execution_count": 15,
      "outputs": [
        {
          "output_type": "stream",
          "name": "stdout",
          "text": [
            "(7369, 'SMITH', 20)\n",
            "(7499, 'ALLEN', 30)\n",
            "(7505, 'DOYLE', 30)\n",
            "(7506, 'DENNIS', 30)\n",
            "(7507, 'BAKER', 40)\n",
            "(7521, 'WARK', 30)\n"
          ]
        }
      ]
    },
    {
      "cell_type": "markdown",
      "source": [
        "7. List out the annual salary of the employees with their names only."
      ],
      "metadata": {
        "id": "tBQGVsfPPfPI"
      }
    },
    {
      "cell_type": "code",
      "source": [
        "import sqlite3\n",
        "\n",
        "conn = sqlite3.connect('TCompany.db')\n",
        "cursor = conn.cursor()\n",
        "\n",
        "cursor.execute(\"SELECT FIRST_NAME, LAST_NAME, SALARY * 12 AS Annual_Salary FROM EMPLOYEE\")\n",
        "\n",
        "results = cursor.fetchall()\n",
        "\n",
        "for row in results:\n",
        "    print(row)\n",
        "\n",
        "conn.close()"
      ],
      "metadata": {
        "colab": {
          "base_uri": "https://localhost:8080/"
        },
        "id": "t7Weh7-QPwSy",
        "outputId": "f15d8c1c-6c59-40f7-82a8-d7ca15a0304b"
      },
      "execution_count": 16,
      "outputs": [
        {
          "output_type": "stream",
          "name": "stdout",
          "text": [
            "('JOHN', 'SMITH', 9600)\n",
            "('KEVIN', 'ALLEN', 19200)\n",
            "('JEAN', 'DOYLE', 34200)\n",
            "('LYNN', 'DENNIS', 33000)\n",
            "('LESLIE', 'BAKER', 26400)\n",
            "('CYNTHIA', 'WARK', 15000)\n"
          ]
        }
      ]
    },
    {
      "cell_type": "markdown",
      "source": [
        "WHERE Condition:"
      ],
      "metadata": {
        "id": "WtEtmnwdP3nb"
      }
    },
    {
      "cell_type": "markdown",
      "source": [
        "1. List the details about \"Smith\"."
      ],
      "metadata": {
        "id": "59O2b9AkP6dn"
      }
    },
    {
      "cell_type": "code",
      "source": [
        "import sqlite3\n",
        "\n",
        "conn = sqlite3.connect('TCompany.db')\n",
        "cursor = conn.cursor()\n",
        "\n",
        "cursor.execute(\"SELECT * FROM EMPLOYEE WHERE LAST_NAME = 'Smith'\")\n",
        "\n",
        "results = cursor.fetchall()\n",
        "\n",
        "for row in results:\n",
        "    print(row)\n",
        "\n",
        "conn.close()"
      ],
      "metadata": {
        "id": "T_4i4akrP_Ua"
      },
      "execution_count": 17,
      "outputs": []
    },
    {
      "cell_type": "markdown",
      "source": [
        "2. List out the employees who are working in department 20."
      ],
      "metadata": {
        "id": "WhfEqTqWQKAK"
      }
    },
    {
      "cell_type": "code",
      "source": [
        "import sqlite3\n",
        "\n",
        "conn = sqlite3.connect('TCompany.db')\n",
        "cursor = conn.cursor()\n",
        "\n",
        "cursor.execute(\"SELECT * FROM EMPLOYEE WHERE DEPARTMENT_ID = 20\")\n",
        "\n",
        "results = cursor.fetchall()\n",
        "\n",
        "for row in results:\n",
        "    print(row)\n",
        "\n",
        "conn.close()"
      ],
      "metadata": {
        "colab": {
          "base_uri": "https://localhost:8080/"
        },
        "id": "d3mxKt8QQK31",
        "outputId": "59e4073a-f076-4bb0-9faf-f4eed9d79686"
      },
      "execution_count": 18,
      "outputs": [
        {
          "output_type": "stream",
          "name": "stdout",
          "text": [
            "(7369, 'SMITH', 'JOHN', 'Q', 667, 7902, '17-DEC-84', 800, None, 20)\n"
          ]
        }
      ]
    },
    {
      "cell_type": "markdown",
      "source": [
        "3. List out the employees who are earning salary between 2000 and 3000."
      ],
      "metadata": {
        "id": "dR9aLmpyQSpK"
      }
    },
    {
      "cell_type": "code",
      "source": [
        "import sqlite3\n",
        "\n",
        "conn = sqlite3.connect('TCompany.db')\n",
        "cursor = conn.cursor()\n",
        "\n",
        "cursor.execute(\"SELECT * FROM EMPLOYEE WHERE SALARY BETWEEN 2000 AND 3000\")\n",
        "\n",
        "results = cursor.fetchall()\n",
        "\n",
        "for row in results:\n",
        "    print(row)\n",
        "\n",
        "conn.close()"
      ],
      "metadata": {
        "colab": {
          "base_uri": "https://localhost:8080/"
        },
        "id": "h-JeHTHzQWbZ",
        "outputId": "5fcd8e0f-8e74-44ad-f49d-4fa60524a727"
      },
      "execution_count": 19,
      "outputs": [
        {
          "output_type": "stream",
          "name": "stdout",
          "text": [
            "(7505, 'DOYLE', 'JEAN', 'K', 671, 7839, '04-APR-85', 2850, None, 30)\n",
            "(7506, 'DENNIS', 'LYNN', 'S', 671, 7839, '15-MAY-85', 2750, None, 30)\n",
            "(7507, 'BAKER', 'LESLIE', 'D', 671, 7839, '10-JUN-85', 2200, None, 40)\n"
          ]
        }
      ]
    },
    {
      "cell_type": "markdown",
      "source": [
        "4. List out the employees who are working in department 10 or 20.\n",
        "5. Find out the employees who are not working in department 10 or 30.\n",
        "6. List out the employees whose name starts with 'L'."
      ],
      "metadata": {
        "id": "31tbHzX7QeLD"
      }
    },
    {
      "cell_type": "code",
      "source": [
        "import sqlite3\n",
        "\n",
        "conn = sqlite3.connect('TCompany.db')\n",
        "cursor = conn.cursor()\n",
        "\n",
        "cursor.execute(\"SELECT * FROM EMPLOYEE WHERE DEPARTMENT_ID = 10 OR DEPARTMENT_ID = 20\")\n",
        "\n",
        "results = cursor.fetchall()\n",
        "\n",
        "for row in results:\n",
        "    print(row)\n",
        "\n",
        "conn.close()"
      ],
      "metadata": {
        "colab": {
          "base_uri": "https://localhost:8080/"
        },
        "id": "WPtuwpKPQtah",
        "outputId": "acd80c8a-5761-4744-bc5e-da71dcb8d611"
      },
      "execution_count": 21,
      "outputs": [
        {
          "output_type": "stream",
          "name": "stdout",
          "text": [
            "(7369, 'SMITH', 'JOHN', 'Q', 667, 7902, '17-DEC-84', 800, None, 20)\n"
          ]
        }
      ]
    },
    {
      "cell_type": "code",
      "source": [
        "import sqlite3\n",
        "\n",
        "conn = sqlite3.connect('TCompany.db')\n",
        "cursor = conn.cursor()\n",
        "\n",
        "cursor.execute(\"SELECT * FROM EMPLOYEE WHERE DEPARTMENT_ID NOT IN (10, 30)\")\n",
        "\n",
        "results = cursor.fetchall()\n",
        "\n",
        "for row in results:\n",
        "    print(row)\n",
        "\n",
        "conn.close()"
      ],
      "metadata": {
        "colab": {
          "base_uri": "https://localhost:8080/"
        },
        "id": "lqV6GIUCRCUg",
        "outputId": "87af36ae-6d4d-4b66-da65-f9565c0d3864"
      },
      "execution_count": 22,
      "outputs": [
        {
          "output_type": "stream",
          "name": "stdout",
          "text": [
            "(7369, 'SMITH', 'JOHN', 'Q', 667, 7902, '17-DEC-84', 800, None, 20)\n",
            "(7507, 'BAKER', 'LESLIE', 'D', 671, 7839, '10-JUN-85', 2200, None, 40)\n"
          ]
        }
      ]
    },
    {
      "cell_type": "code",
      "source": [
        "import sqlite3\n",
        "\n",
        "conn = sqlite3.connect('TCompany.db')\n",
        "cursor = conn.cursor()\n",
        "\n",
        "cursor.execute(\"SELECT * FROM EMPLOYEE WHERE FIRST_NAME LIKE 'L%'\")\n",
        "\n",
        "results = cursor.fetchall()\n",
        "\n",
        "for row in results:\n",
        "    print(row)\n",
        "\n",
        "conn.close()"
      ],
      "metadata": {
        "colab": {
          "base_uri": "https://localhost:8080/"
        },
        "id": "jVk2npf8RIua",
        "outputId": "f9b892c2-fc60-498f-a69f-192b860b927e"
      },
      "execution_count": 23,
      "outputs": [
        {
          "output_type": "stream",
          "name": "stdout",
          "text": [
            "(7506, 'DENNIS', 'LYNN', 'S', 671, 7839, '15-MAY-85', 2750, None, 30)\n",
            "(7507, 'BAKER', 'LESLIE', 'D', 671, 7839, '10-JUN-85', 2200, None, 40)\n"
          ]
        }
      ]
    },
    {
      "cell_type": "markdown",
      "source": [
        "7. List out the employees whose name starts with 'L' and ends with 'E'."
      ],
      "metadata": {
        "id": "6ld3sMrCRPzk"
      }
    },
    {
      "cell_type": "code",
      "source": [
        "import sqlite3\n",
        "\n",
        "conn = sqlite3.connect('TCompany.db')\n",
        "cursor = conn.cursor()\n",
        "\n",
        "cursor.execute(\"SELECT * FROM EMPLOYEE WHERE FIRST_NAME LIKE 'L%E'\")\n",
        "\n",
        "results = cursor.fetchall()\n",
        "\n",
        "for row in results:\n",
        "    print(row)\n",
        "\n",
        "conn.close()"
      ],
      "metadata": {
        "colab": {
          "base_uri": "https://localhost:8080/"
        },
        "id": "-KaRZ2I7RVpc",
        "outputId": "2e981859-a30d-4af5-9ad4-56e5b4d0d52d"
      },
      "execution_count": 24,
      "outputs": [
        {
          "output_type": "stream",
          "name": "stdout",
          "text": [
            "(7507, 'BAKER', 'LESLIE', 'D', 671, 7839, '10-JUN-85', 2200, None, 40)\n"
          ]
        }
      ]
    },
    {
      "cell_type": "markdown",
      "source": [
        "8. List out the employees whose name length is 4 and start with 'J'."
      ],
      "metadata": {
        "id": "9Q2y79ZlRdKk"
      }
    },
    {
      "cell_type": "code",
      "source": [
        "import sqlite3\n",
        "\n",
        "conn = sqlite3.connect('TCompany.db')\n",
        "cursor = conn.cursor()\n",
        "\n",
        "cursor.execute(\"SELECT * FROM EMPLOYEE WHERE FIRST_NAME LIKE 'J%' AND LENGTH(FIRST_NAME) = 4\")\n",
        "\n",
        "results = cursor.fetchall()\n",
        "\n",
        "for row in results:\n",
        "    print(row)\n",
        "\n",
        "conn.close()"
      ],
      "metadata": {
        "colab": {
          "base_uri": "https://localhost:8080/"
        },
        "id": "LbC-A9N9RhGe",
        "outputId": "aaf4c8b1-e3ac-4e1b-8db6-18a604afd476"
      },
      "execution_count": 25,
      "outputs": [
        {
          "output_type": "stream",
          "name": "stdout",
          "text": [
            "(7369, 'SMITH', 'JOHN', 'Q', 667, 7902, '17-DEC-84', 800, None, 20)\n",
            "(7505, 'DOYLE', 'JEAN', 'K', 671, 7839, '04-APR-85', 2850, None, 30)\n"
          ]
        }
      ]
    },
    {
      "cell_type": "markdown",
      "source": [
        "9. List out the employees who are working in department 30 and draw the\n",
        "salaries more than 2500."
      ],
      "metadata": {
        "id": "VAQy8q3GRqKs"
      }
    },
    {
      "cell_type": "code",
      "source": [
        "import sqlite3\n",
        "\n",
        "conn = sqlite3.connect('TCompany.db')\n",
        "cursor = conn.cursor()\n",
        "\n",
        "cursor.execute(\"SELECT * FROM EMPLOYEE WHERE DEPARTMENT_ID = 30 AND SALARY > 2500\")\n",
        "\n",
        "results = cursor.fetchall()\n",
        "\n",
        "for row in results:\n",
        "    print(row)\n",
        "\n",
        "conn.close()"
      ],
      "metadata": {
        "colab": {
          "base_uri": "https://localhost:8080/"
        },
        "id": "narMja-tRt56",
        "outputId": "005062fa-dc02-4952-cd8c-c5383bdf84bd"
      },
      "execution_count": 26,
      "outputs": [
        {
          "output_type": "stream",
          "name": "stdout",
          "text": [
            "(7505, 'DOYLE', 'JEAN', 'K', 671, 7839, '04-APR-85', 2850, None, 30)\n",
            "(7506, 'DENNIS', 'LYNN', 'S', 671, 7839, '15-MAY-85', 2750, None, 30)\n"
          ]
        }
      ]
    },
    {
      "cell_type": "markdown",
      "source": [
        "10. List out the employees who are not receiving commission."
      ],
      "metadata": {
        "id": "kC7AEO8rR0p6"
      }
    },
    {
      "cell_type": "code",
      "source": [
        "import sqlite3\n",
        "\n",
        "conn = sqlite3.connect('TCompany.db')\n",
        "cursor = conn.cursor()\n",
        "\n",
        "cursor.execute(\"SELECT * FROM EMPLOYEE WHERE COMM IS NULL\")\n",
        "\n",
        "results = cursor.fetchall()\n",
        "\n",
        "for row in results:\n",
        "    print(row)\n",
        "\n",
        "conn.close()\n"
      ],
      "metadata": {
        "colab": {
          "base_uri": "https://localhost:8080/"
        },
        "id": "ZP2c45oWR4db",
        "outputId": "77b56307-dd2a-4636-a99d-2f782784ad84"
      },
      "execution_count": 27,
      "outputs": [
        {
          "output_type": "stream",
          "name": "stdout",
          "text": [
            "(7369, 'SMITH', 'JOHN', 'Q', 667, 7902, '17-DEC-84', 800, None, 20)\n",
            "(7505, 'DOYLE', 'JEAN', 'K', 671, 7839, '04-APR-85', 2850, None, 30)\n",
            "(7506, 'DENNIS', 'LYNN', 'S', 671, 7839, '15-MAY-85', 2750, None, 30)\n",
            "(7507, 'BAKER', 'LESLIE', 'D', 671, 7839, '10-JUN-85', 2200, None, 40)\n"
          ]
        }
      ]
    },
    {
      "cell_type": "markdown",
      "source": [
        "ORDER BY Clause:"
      ],
      "metadata": {
        "id": "R1vIfNzoSBsB"
      }
    },
    {
      "cell_type": "markdown",
      "source": [
        "1. List out the Employee ID and Last Name in ascending order based on the\n",
        "Employee ID."
      ],
      "metadata": {
        "id": "LVkRN0sFSFMg"
      }
    },
    {
      "cell_type": "code",
      "source": [
        "import sqlite3\n",
        "\n",
        "conn = sqlite3.connect('TCompany.db')\n",
        "cursor = conn.cursor()\n",
        "\n",
        "cursor.execute(\"SELECT EMPLOYEE_ID, LAST_NAME FROM EMPLOYEE ORDER BY EMPLOYEE_ID ASC\")\n",
        "\n",
        "results = cursor.fetchall()\n",
        "\n",
        "for row in results:\n",
        "    print(row)\n",
        "\n",
        "conn.close()"
      ],
      "metadata": {
        "colab": {
          "base_uri": "https://localhost:8080/"
        },
        "id": "qzys8BFqSJNN",
        "outputId": "9f01f676-e653-4736-da26-a5e66d9e2b6a"
      },
      "execution_count": 28,
      "outputs": [
        {
          "output_type": "stream",
          "name": "stdout",
          "text": [
            "(7369, 'SMITH')\n",
            "(7499, 'ALLEN')\n",
            "(7505, 'DOYLE')\n",
            "(7506, 'DENNIS')\n",
            "(7507, 'BAKER')\n",
            "(7521, 'WARK')\n"
          ]
        }
      ]
    },
    {
      "cell_type": "markdown",
      "source": [
        "2. List out the Employee ID and Name in descending order based on salary."
      ],
      "metadata": {
        "id": "EX5Bdb7ASPSQ"
      }
    },
    {
      "cell_type": "code",
      "source": [
        "import sqlite3\n",
        "\n",
        "conn = sqlite3.connect('TCompany.db')\n",
        "cursor = conn.cursor()\n",
        "\n",
        "cursor.execute(\"SELECT EMPLOYEE_ID, FIRST_NAME, LAST_NAME FROM EMPLOYEE ORDER BY SALARY DESC\")\n",
        "results = cursor.fetchall()\n",
        "\n",
        "for row in results:\n",
        "    print(row)\n",
        "\n",
        "conn.close()"
      ],
      "metadata": {
        "colab": {
          "base_uri": "https://localhost:8080/"
        },
        "id": "X1W3fSqaST_v",
        "outputId": "5b8d4124-76ba-4956-f886-6326f351f93b"
      },
      "execution_count": 29,
      "outputs": [
        {
          "output_type": "stream",
          "name": "stdout",
          "text": [
            "(7505, 'JEAN', 'DOYLE')\n",
            "(7506, 'LYNN', 'DENNIS')\n",
            "(7507, 'LESLIE', 'BAKER')\n",
            "(7499, 'KEVIN', 'ALLEN')\n",
            "(7521, 'CYNTHIA', 'WARK')\n",
            "(7369, 'JOHN', 'SMITH')\n"
          ]
        }
      ]
    },
    {
      "cell_type": "markdown",
      "source": [
        "3. List out the employee details according to their Last Name in ascending-order."
      ],
      "metadata": {
        "id": "lDh_a9p_ScBC"
      }
    },
    {
      "cell_type": "code",
      "source": [
        "import sqlite3\n",
        "\n",
        "conn = sqlite3.connect('TCompany.db')\n",
        "cursor = conn.cursor()\n",
        "\n",
        "cursor.execute(\"SELECT * FROM EMPLOYEE ORDER BY LAST_NAME ASC\")\n",
        "results = cursor.fetchall()\n",
        "\n",
        "for row in results:\n",
        "    print(row)\n",
        "\n",
        "conn.close()"
      ],
      "metadata": {
        "colab": {
          "base_uri": "https://localhost:8080/"
        },
        "id": "npC_MH8aSf3k",
        "outputId": "2da4eccd-ecea-42f4-8dd4-4bf31e99d131"
      },
      "execution_count": 30,
      "outputs": [
        {
          "output_type": "stream",
          "name": "stdout",
          "text": [
            "(7499, 'ALLEN', 'KEVIN', 'J', 670, 7698, '20-FEB-84', 1600, 300, 30)\n",
            "(7507, 'BAKER', 'LESLIE', 'D', 671, 7839, '10-JUN-85', 2200, None, 40)\n",
            "(7506, 'DENNIS', 'LYNN', 'S', 671, 7839, '15-MAY-85', 2750, None, 30)\n",
            "(7505, 'DOYLE', 'JEAN', 'K', 671, 7839, '04-APR-85', 2850, None, 30)\n",
            "(7369, 'SMITH', 'JOHN', 'Q', 667, 7902, '17-DEC-84', 800, None, 20)\n",
            "(7521, 'WARK', 'CYNTHIA', 'D', 670, 7698, '22-FEB-85', 1250, 500, 30)\n"
          ]
        }
      ]
    },
    {
      "cell_type": "markdown",
      "source": [
        "4. List out the employee details according to their Last Name in ascending\n",
        "order and then Department ID in descending order."
      ],
      "metadata": {
        "id": "b5f-Nt6CSm5x"
      }
    },
    {
      "cell_type": "code",
      "source": [
        "import sqlite3\n",
        "\n",
        "conn = sqlite3.connect('TCompany.db')\n",
        "cursor = conn.cursor()\n",
        "\n",
        "cursor.execute(\"SELECT * FROM EMPLOYEE ORDER BY LAST_NAME ASC, DEPARTMENT_ID DESC\")\n",
        "results = cursor.fetchall()\n",
        "\n",
        "for row in results:\n",
        "    print(row)\n",
        "\n",
        "conn.close()\n"
      ],
      "metadata": {
        "colab": {
          "base_uri": "https://localhost:8080/"
        },
        "id": "aK_hMfexSsux",
        "outputId": "fa2614d8-e23b-4071-83a1-5891a14ebfc5"
      },
      "execution_count": 31,
      "outputs": [
        {
          "output_type": "stream",
          "name": "stdout",
          "text": [
            "(7499, 'ALLEN', 'KEVIN', 'J', 670, 7698, '20-FEB-84', 1600, 300, 30)\n",
            "(7507, 'BAKER', 'LESLIE', 'D', 671, 7839, '10-JUN-85', 2200, None, 40)\n",
            "(7506, 'DENNIS', 'LYNN', 'S', 671, 7839, '15-MAY-85', 2750, None, 30)\n",
            "(7505, 'DOYLE', 'JEAN', 'K', 671, 7839, '04-APR-85', 2850, None, 30)\n",
            "(7369, 'SMITH', 'JOHN', 'Q', 667, 7902, '17-DEC-84', 800, None, 20)\n",
            "(7521, 'WARK', 'CYNTHIA', 'D', 670, 7698, '22-FEB-85', 1250, 500, 30)\n"
          ]
        }
      ]
    },
    {
      "cell_type": "markdown",
      "source": [
        "GROUP BY and HAVING Clause:"
      ],
      "metadata": {
        "id": "VwyLZNl3S18n"
      }
    },
    {
      "cell_type": "markdown",
      "source": [
        "1. List out the department wise maximum salary, minimum salary and\n",
        "average salary of the employees."
      ],
      "metadata": {
        "id": "_-buea8GS4rq"
      }
    },
    {
      "cell_type": "code",
      "source": [
        "import sqlite3\n",
        "\n",
        "conn = sqlite3.connect('TCompany.db')\n",
        "cursor = conn.cursor()\n",
        "\n",
        "cursor.execute('''\n",
        "SELECT\n",
        "    DEPARTMENT_ID,\n",
        "    MAX(SALARY) AS MaxSalary,\n",
        "    MIN(SALARY) AS MinSalary,\n",
        "    AVG(SALARY) AS AvgSalary\n",
        "FROM\n",
        "    EMPLOYEE\n",
        "GROUP BY\n",
        "    DEPARTMENT_ID\n",
        "''')\n",
        "\n",
        "results = cursor.fetchall()\n",
        "\n",
        "for row in results:\n",
        "    print(row)\n",
        "\n",
        "conn.close()"
      ],
      "metadata": {
        "colab": {
          "base_uri": "https://localhost:8080/"
        },
        "id": "B2J5wn9HS-U-",
        "outputId": "74fd316e-ea26-4557-aa9d-e2fb91e51443"
      },
      "execution_count": 32,
      "outputs": [
        {
          "output_type": "stream",
          "name": "stdout",
          "text": [
            "(20, 800, 800, 800.0)\n",
            "(30, 2850, 1250, 2112.5)\n",
            "(40, 2200, 2200, 2200.0)\n"
          ]
        }
      ]
    },
    {
      "cell_type": "markdown",
      "source": [
        "2. List out the job wise maximum salary, minimum salary and average\n",
        "salary of the employees."
      ],
      "metadata": {
        "id": "9VCmaL--TIMu"
      }
    },
    {
      "cell_type": "code",
      "source": [
        "import sqlite3\n",
        "\n",
        "conn = sqlite3.connect('TCompany.db')\n",
        "cursor = conn.cursor()\n",
        "\n",
        "cursor.execute('''\n",
        "SELECT\n",
        "    JOB_ID,\n",
        "    MAX(SALARY) AS MaxSalary,\n",
        "    MIN(SALARY) AS MinSalary,\n",
        "    AVG(SALARY) AS AvgSalary\n",
        "FROM\n",
        "    EMPLOYEE\n",
        "GROUP BY\n",
        "    JOB_ID\n",
        "''')\n",
        "\n",
        "results = cursor.fetchall()\n",
        "\n",
        "for row in results:\n",
        "    print(row)\n",
        "\n",
        "conn.close()"
      ],
      "metadata": {
        "colab": {
          "base_uri": "https://localhost:8080/"
        },
        "id": "kWAIEyz_TNu5",
        "outputId": "7ef684c4-589a-4fb8-bdca-cf3bd5f35e34"
      },
      "execution_count": 33,
      "outputs": [
        {
          "output_type": "stream",
          "name": "stdout",
          "text": [
            "(667, 800, 800, 800.0)\n",
            "(670, 1600, 1250, 1425.0)\n",
            "(671, 2850, 2200, 2600.0)\n"
          ]
        }
      ]
    },
    {
      "cell_type": "markdown",
      "source": [
        "3. List out the number of employees who joined each month in ascending order"
      ],
      "metadata": {
        "id": "RgaHnH_TTW_h"
      }
    },
    {
      "cell_type": "code",
      "source": [
        "import sqlite3\n",
        "\n",
        "conn = sqlite3.connect('TCompany.db')\n",
        "cursor = conn.cursor()\n",
        "\n",
        "cursor.execute('''\n",
        "SELECT\n",
        "    STRFTIME('%m', HIRE_DATE) AS HireMonth,\n",
        "    COUNT(*) AS EmployeeCount\n",
        "FROM\n",
        "    EMPLOYEE\n",
        "GROUP BY\n",
        "    HireMonth\n",
        "ORDER BY\n",
        "    HireMonth ASC\n",
        "''')\n",
        "results = cursor.fetchall()\n",
        "\n",
        "for row in results:\n",
        "    print(row)\n",
        "\n",
        "conn.close()"
      ],
      "metadata": {
        "colab": {
          "base_uri": "https://localhost:8080/"
        },
        "id": "3IZZI5KwTdeo",
        "outputId": "8cb15e69-7ebb-4a86-9095-641473711342"
      },
      "execution_count": 34,
      "outputs": [
        {
          "output_type": "stream",
          "name": "stdout",
          "text": [
            "(None, 6)\n"
          ]
        }
      ]
    },
    {
      "cell_type": "markdown",
      "source": [
        "4. List out the number of employees for each month and year in\n",
        "ascending order based on the year and month."
      ],
      "metadata": {
        "id": "cfbV_EhOTmfd"
      }
    },
    {
      "cell_type": "code",
      "source": [
        "import sqlite3\n",
        "\n",
        "conn = sqlite3.connect('TCompany.db')\n",
        "cursor = conn.cursor()\n",
        "\n",
        "cursor.execute('''\n",
        "SELECT\n",
        "    STRFTIME('%Y', HIRE_DATE) AS HireYear,\n",
        "    STRFTIME('%m', HIRE_DATE) AS HireMonth,\n",
        "    COUNT(*) AS EmployeeCount\n",
        "FROM\n",
        "    EMPLOYEE\n",
        "GROUP BY\n",
        "    HireYear, HireMonth\n",
        "ORDER BY\n",
        "    HireYear ASC, HireMonth ASC\n",
        "''')\n",
        "results = cursor.fetchall()\n",
        "\n",
        "for row in results:\n",
        "    print(row)\n",
        "\n",
        "conn.close()"
      ],
      "metadata": {
        "colab": {
          "base_uri": "https://localhost:8080/"
        },
        "id": "huAtD2Y0Trqp",
        "outputId": "4a12a15d-5887-4871-d6d7-e3dd196fb047"
      },
      "execution_count": 35,
      "outputs": [
        {
          "output_type": "stream",
          "name": "stdout",
          "text": [
            "(None, None, 6)\n"
          ]
        }
      ]
    },
    {
      "cell_type": "markdown",
      "source": [
        "5. List out the Department ID having at least four employees."
      ],
      "metadata": {
        "id": "tQONpNoUT1jL"
      }
    },
    {
      "cell_type": "code",
      "source": [
        "import sqlite3\n",
        "\n",
        "conn = sqlite3.connect('TCompany.db')\n",
        "cursor = conn.cursor()\n",
        "\n",
        "cursor.execute('''\n",
        "SELECT\n",
        "    DEPARTMENT_ID\n",
        "FROM\n",
        "    EMPLOYEE\n",
        "GROUP BY\n",
        "    DEPARTMENT_ID\n",
        "HAVING\n",
        "    COUNT(*) >= 4\n",
        "''')\n",
        "results = cursor.fetchall()\n",
        "\n",
        "for row in results:\n",
        "    print(row)\n",
        "\n",
        "conn.close()"
      ],
      "metadata": {
        "colab": {
          "base_uri": "https://localhost:8080/"
        },
        "id": "uEW3_YHZT57t",
        "outputId": "74aac929-61bc-46b4-9f98-7a4049b80b5b"
      },
      "execution_count": 36,
      "outputs": [
        {
          "output_type": "stream",
          "name": "stdout",
          "text": [
            "(30,)\n"
          ]
        }
      ]
    },
    {
      "cell_type": "markdown",
      "source": [
        "6. How many employees joined in February month."
      ],
      "metadata": {
        "id": "GQGNqQBDUC-G"
      }
    },
    {
      "cell_type": "code",
      "source": [
        "import sqlite3\n",
        "\n",
        "conn = sqlite3.connect('TCompany.db')\n",
        "cursor = conn.cursor()\n",
        "\n",
        "cursor.execute(\"SELECT COUNT(*) FROM EMPLOYEE WHERE STRFTIME('%m', HIRE_DATE) = '02'\")\n",
        "\n",
        "result = cursor.fetchone()\n",
        "\n",
        "print(result[0])\n",
        "\n",
        "conn.close()"
      ],
      "metadata": {
        "colab": {
          "base_uri": "https://localhost:8080/"
        },
        "id": "utt0M4ptUG9J",
        "outputId": "69ec7105-b1fe-4162-ca4d-95a9333514a2"
      },
      "execution_count": 37,
      "outputs": [
        {
          "output_type": "stream",
          "name": "stdout",
          "text": [
            "0\n"
          ]
        }
      ]
    },
    {
      "cell_type": "markdown",
      "source": [
        "7. How many employees joined in May or June month."
      ],
      "metadata": {
        "id": "q8wTmdnSUTMt"
      }
    },
    {
      "cell_type": "code",
      "source": [
        "import sqlite3\n",
        "\n",
        "conn = sqlite3.connect('TCompany.db')\n",
        "cursor = conn.cursor()\n",
        "\n",
        "cursor.execute(\"SELECT COUNT(*) FROM EMPLOYEE WHERE STRFTIME('%m', HIRE_DATE) = '05' OR STRFTIME('%m', HIRE_DATE) = '06'\")\n",
        "\n",
        "result = cursor.fetchone()\n",
        "\n",
        "print(result[0])\n",
        "\n",
        "conn.close()"
      ],
      "metadata": {
        "colab": {
          "base_uri": "https://localhost:8080/"
        },
        "id": "tZAkYxNCUWBd",
        "outputId": "e55ab9ca-649a-4ce3-8d7d-62f75b11711c"
      },
      "execution_count": 38,
      "outputs": [
        {
          "output_type": "stream",
          "name": "stdout",
          "text": [
            "0\n"
          ]
        }
      ]
    },
    {
      "cell_type": "markdown",
      "source": [
        "8. How many employees joined in 1985?"
      ],
      "metadata": {
        "id": "c-b8vUaaUgmL"
      }
    },
    {
      "cell_type": "code",
      "source": [
        "import sqlite3\n",
        "\n",
        "conn = sqlite3.connect('TCompany.db')\n",
        "cursor = conn.cursor()\n",
        "\n",
        "cursor.execute(\"SELECT COUNT(*) FROM EMPLOYEE WHERE STRFTIME('%Y', HIRE_DATE) = '1985'\")\n",
        "\n",
        "result = cursor.fetchone()\n",
        "\n",
        "print(result[0])\n",
        "\n",
        "conn.close()"
      ],
      "metadata": {
        "colab": {
          "base_uri": "https://localhost:8080/"
        },
        "id": "A6hRkuFiUkKi",
        "outputId": "77bdeb6a-3958-4e24-c01f-8119ad05c0ab"
      },
      "execution_count": 39,
      "outputs": [
        {
          "output_type": "stream",
          "name": "stdout",
          "text": [
            "0\n"
          ]
        }
      ]
    },
    {
      "cell_type": "markdown",
      "source": [
        "9. How many employees joined each month in 1985?\n"
      ],
      "metadata": {
        "id": "q6HbEA49UryU"
      }
    },
    {
      "cell_type": "code",
      "source": [
        "import sqlite3\n",
        "\n",
        "conn = sqlite3.connect('TCompany.db')\n",
        "cursor = conn.cursor()\n",
        "\n",
        "cursor.execute('''\n",
        "SELECT\n",
        "    STRFTIME('%m', HIRE_DATE) AS HireMonth,\n",
        "    COUNT(*) AS EmployeeCount\n",
        "FROM\n",
        "    EMPLOYEE\n",
        "WHERE\n",
        "    STRFTIME('%Y', HIRE_DATE) = '1985'\n",
        "GROUP BY\n",
        "    HireMonth\n",
        "''')\n",
        "\n",
        "results = cursor.fetchall()\n",
        "\n",
        "for row in results:\n",
        "    print(row)\n",
        "\n",
        "conn.close()"
      ],
      "metadata": {
        "id": "9okxWtjPUxu4"
      },
      "execution_count": 40,
      "outputs": []
    },
    {
      "cell_type": "markdown",
      "source": [
        "10. How many employees were joined in April 1985?"
      ],
      "metadata": {
        "id": "9BTXlMzUU6Y6"
      }
    },
    {
      "cell_type": "code",
      "source": [
        "import sqlite3\n",
        "\n",
        "conn = sqlite3.connect('TCompany.db')\n",
        "cursor = conn.cursor()\n",
        "\n",
        "cursor.execute(\"SELECT COUNT(*) FROM EMPLOYEE WHERE STRFTIME('%Y', HIRE_DATE) = '1985' AND STRFTIME('%m', HIRE_DATE) = '04'\")\n",
        "\n",
        "result = cursor.fetchone()\n",
        "\n",
        "print(result[0])\n",
        "\n",
        "conn.close()"
      ],
      "metadata": {
        "colab": {
          "base_uri": "https://localhost:8080/"
        },
        "id": "iIonlAaRU_O3",
        "outputId": "8073383e-3fcb-400c-cdf9-1cc465bb902b"
      },
      "execution_count": 41,
      "outputs": [
        {
          "output_type": "stream",
          "name": "stdout",
          "text": [
            "0\n"
          ]
        }
      ]
    },
    {
      "cell_type": "markdown",
      "source": [
        "11. Which is the Department ID having greater than or equal to 3 employees\n",
        "joining in April 1985?"
      ],
      "metadata": {
        "id": "YRII8mWkVNfI"
      }
    },
    {
      "cell_type": "code",
      "source": [
        "import sqlite3\n",
        "\n",
        "conn = sqlite3.connect('TCompany.db')\n",
        "cursor = conn.cursor()\n",
        "\n",
        "cursor.execute('''\n",
        "SELECT\n",
        "    DEPARTMENT_ID\n",
        "FROM\n",
        "    EMPLOYEE\n",
        "WHERE\n",
        "    STRFTIME('%Y', HIRE_DATE) = '1985' AND STRFTIME('%m', HIRE_DATE) = '04'\n",
        "GROUP BY\n",
        "    DEPARTMENT_ID\n",
        "HAVING\n",
        "    COUNT(*) >= 3\n",
        "''')\n",
        "\n",
        "results = cursor.fetchall()\n",
        "\n",
        "for row in results:\n",
        "    print(row)\n",
        "\n",
        "conn.close()"
      ],
      "metadata": {
        "id": "NWmzXHkDVQpo"
      },
      "execution_count": 42,
      "outputs": []
    },
    {
      "cell_type": "markdown",
      "source": [
        "Joins:"
      ],
      "metadata": {
        "id": "RpJvB2x1V5H_"
      }
    },
    {
      "cell_type": "markdown",
      "source": [
        "1. List out employees with their department names."
      ],
      "metadata": {
        "id": "hUb8QVNrV50Z"
      }
    },
    {
      "cell_type": "code",
      "source": [
        "import sqlite3\n",
        "\n",
        "conn = sqlite3.connect('TCompany.db')\n",
        "cursor = conn.cursor()\n",
        "\n",
        "cursor.execute('''\n",
        "SELECT\n",
        "    E.FIRST_NAME,\n",
        "    E.LAST_NAME,\n",
        "    D.NAME\n",
        "FROM\n",
        "    EMPLOYEE E\n",
        "JOIN\n",
        "    DEPARTMENT D ON E.DEPARTMENT_ID = D.Department_Id\n",
        "''')\n",
        "\n",
        "results = cursor.fetchall()\n",
        "\n",
        "for row in results:\n",
        "    print(row)\n",
        "\n",
        "conn.close()"
      ],
      "metadata": {
        "colab": {
          "base_uri": "https://localhost:8080/"
        },
        "id": "yUy2QtmOV-9E",
        "outputId": "193851c9-eaed-47b3-feef-213750169790"
      },
      "execution_count": 44,
      "outputs": [
        {
          "output_type": "stream",
          "name": "stdout",
          "text": [
            "('JOHN', 'SMITH', 'Sales')\n",
            "('KEVIN', 'ALLEN', 'Research')\n",
            "('JEAN', 'DOYLE', 'Research')\n",
            "('LYNN', 'DENNIS', 'Research')\n",
            "('LESLIE', 'BAKER', 'Operations')\n",
            "('CYNTHIA', 'WARK', 'Research')\n"
          ]
        }
      ]
    },
    {
      "cell_type": "markdown",
      "source": [
        "2. Display employees with their designations."
      ],
      "metadata": {
        "id": "JtISrRs6WZL9"
      }
    },
    {
      "cell_type": "code",
      "source": [
        "import sqlite3\n",
        "\n",
        "conn = sqlite3.connect('TCompany.db')\n",
        "cursor = conn.cursor()\n",
        "\n",
        "cursor.execute('''\n",
        "SELECT\n",
        "    E.FIRST_NAME,\n",
        "    E.LAST_NAME,\n",
        "    J.Designation\n",
        "FROM\n",
        "    EMPLOYEE E\n",
        "JOIN\n",
        "    JOB J ON E.JOB_ID = J.JOB_ID\n",
        "''')\n",
        "\n",
        "results = cursor.fetchall()\n",
        "\n",
        "for row in results:\n",
        "    print(row)\n",
        "\n",
        "conn.close()"
      ],
      "metadata": {
        "colab": {
          "base_uri": "https://localhost:8080/"
        },
        "id": "386-cl0KWdMc",
        "outputId": "28822d1a-8d95-4dd1-cb14-51bfba225473"
      },
      "execution_count": 46,
      "outputs": [
        {
          "output_type": "stream",
          "name": "stdout",
          "text": [
            "('JOHN', 'SMITH', 'CLERK')\n",
            "('KEVIN', 'ALLEN', 'SALES_PERSON')\n",
            "('JEAN', 'DOYLE', 'MANAGER')\n",
            "('LYNN', 'DENNIS', 'MANAGER')\n",
            "('LESLIE', 'BAKER', 'MANAGER')\n",
            "('CYNTHIA', 'WARK', 'SALES_PERSON')\n"
          ]
        }
      ]
    },
    {
      "cell_type": "markdown",
      "source": [
        "3. Display the employees with their department names and city."
      ],
      "metadata": {
        "id": "0oULqDOLWuj0"
      }
    },
    {
      "cell_type": "code",
      "source": [
        "import sqlite3\n",
        "\n",
        "conn = sqlite3.connect('TCompany.db')\n",
        "cursor = conn.cursor()\n",
        "\n",
        "cursor.execute('''\n",
        "SELECT\n",
        "    E.FIRST_NAME,\n",
        "    E.LAST_NAME,\n",
        "    D.NAME,\n",
        "    L.CITY\n",
        "FROM\n",
        "    EMPLOYEE E\n",
        "JOIN\n",
        "    DEPARTMENT D ON E.DEPARTMENT_ID = D.Department_Id\n",
        "JOIN\n",
        "    LOCATION L ON D.LOCATION_ID = L.Location_ID\n",
        "''')\n",
        "\n",
        "results = cursor.fetchall()\n",
        "\n",
        "for row in results:\n",
        "    print(row)\n",
        "\n",
        "conn.close()"
      ],
      "metadata": {
        "colab": {
          "base_uri": "https://localhost:8080/"
        },
        "id": "JjE_hlK0W0qn",
        "outputId": "e4b524f2-3504-42b2-c74b-eb9bd45093c4"
      },
      "execution_count": 48,
      "outputs": [
        {
          "output_type": "stream",
          "name": "stdout",
          "text": [
            "('JOHN', 'SMITH', 'Sales', 'Chicago')\n",
            "('KEVIN', 'ALLEN', 'Research', 'Dallas')\n",
            "('JEAN', 'DOYLE', 'Research', 'Dallas')\n",
            "('LYNN', 'DENNIS', 'Research', 'Dallas')\n",
            "('LESLIE', 'BAKER', 'Operations', 'Boston')\n",
            "('CYNTHIA', 'WARK', 'Research', 'Dallas')\n"
          ]
        }
      ]
    },
    {
      "cell_type": "markdown",
      "source": [
        "4. How many employees are working in different departments? Display with\n",
        "department names."
      ],
      "metadata": {
        "id": "5kH29K4vXPFS"
      }
    },
    {
      "cell_type": "code",
      "source": [
        "import sqlite3\n",
        "\n",
        "conn = sqlite3.connect('TCompany.db')\n",
        "cursor = conn.cursor()\n",
        "\n",
        "cursor.execute('''\n",
        "SELECT\n",
        "    D.NAME,\n",
        "    COUNT(E.EMPLOYEE_ID) AS NumberOfEmployees\n",
        "FROM\n",
        "    EMPLOYEE E\n",
        "JOIN\n",
        "    DEPARTMENT D ON E.DEPARTMENT_ID = D.Department_Id\n",
        "GROUP BY\n",
        "    D.NAME\n",
        "''')\n",
        "\n",
        "results = cursor.fetchall()\n",
        "\n",
        "for row in results:\n",
        "    print(row)\n",
        "\n",
        "conn.close()"
      ],
      "metadata": {
        "colab": {
          "base_uri": "https://localhost:8080/"
        },
        "id": "BItjLZgUXTtG",
        "outputId": "6cf54077-09b9-421a-bca2-d9f5fed073e6"
      },
      "execution_count": 50,
      "outputs": [
        {
          "output_type": "stream",
          "name": "stdout",
          "text": [
            "('Operations', 1)\n",
            "('Research', 4)\n",
            "('Sales', 1)\n"
          ]
        }
      ]
    },
    {
      "cell_type": "markdown",
      "source": [
        "5. How many employees are working in the sales department?"
      ],
      "metadata": {
        "id": "c63UVdTpXqiw"
      }
    },
    {
      "cell_type": "code",
      "source": [
        "import sqlite3\n",
        "\n",
        "conn = sqlite3.connect('TCompany.db')\n",
        "cursor = conn.cursor()\n",
        "\n",
        "cursor.execute('''\n",
        "SELECT\n",
        "    COUNT(*)\n",
        "FROM\n",
        "    EMPLOYEE\n",
        "WHERE\n",
        "    DEPARTMENT_ID = (SELECT Department_Id FROM DEPARTMENT WHERE Name = 'Sales')\n",
        "''')\n",
        "\n",
        "result = cursor.fetchone()\n",
        "\n",
        "print(result[0])\n",
        "\n",
        "conn.close()"
      ],
      "metadata": {
        "colab": {
          "base_uri": "https://localhost:8080/"
        },
        "id": "2yzL3K-LXuo-",
        "outputId": "5d3015de-6bca-4afa-d149-3a74546e7e30"
      },
      "execution_count": 55,
      "outputs": [
        {
          "output_type": "stream",
          "name": "stdout",
          "text": [
            "1\n"
          ]
        }
      ]
    },
    {
      "cell_type": "markdown",
      "source": [
        "6. Which is the department having greater than or equal to 3\n",
        "employees and display the department names in\n",
        "ascending order."
      ],
      "metadata": {
        "id": "uezT2x81YNZr"
      }
    },
    {
      "cell_type": "code",
      "source": [
        "import sqlite3\n",
        "\n",
        "conn = sqlite3.connect('TCompany.db')\n",
        "cursor = conn.cursor()\n",
        "\n",
        "cursor.execute('''\n",
        "SELECT\n",
        "    D.NAME\n",
        "FROM\n",
        "    EMPLOYEE E\n",
        "JOIN\n",
        "    DEPARTMENT D ON E.DEPARTMENT_ID = D.DEPARTMENT_ID\n",
        "GROUP BY\n",
        "    D.NAME\n",
        "HAVING\n",
        "    COUNT(*) >= 3\n",
        "ORDER BY\n",
        "    D.NAME ASC\n",
        "''')\n",
        "\n",
        "results = cursor.fetchall()\n",
        "\n",
        "for row in results:\n",
        "    print(row)\n",
        "\n",
        "conn.close()"
      ],
      "metadata": {
        "colab": {
          "base_uri": "https://localhost:8080/"
        },
        "id": "6ezwxo6aYSH4",
        "outputId": "f9473ead-4107-4f61-dc7d-d5d4f2965fef"
      },
      "execution_count": 57,
      "outputs": [
        {
          "output_type": "stream",
          "name": "stdout",
          "text": [
            "('Research',)\n"
          ]
        }
      ]
    },
    {
      "cell_type": "markdown",
      "source": [
        "7. How many employees are working in 'Dallas'?"
      ],
      "metadata": {
        "id": "87o9a0VSYhdL"
      }
    },
    {
      "cell_type": "code",
      "source": [
        "import sqlite3\n",
        "\n",
        "conn = sqlite3.connect('TCompany.db')\n",
        "cursor = conn.cursor()\n",
        "\n",
        "cursor.execute('''\n",
        "SELECT\n",
        "    COUNT(*)\n",
        "FROM\n",
        "    EMPLOYEE E\n",
        "JOIN\n",
        "    DEPARTMENT D ON E.DEPARTMENT_ID = D.DEPARTMENT_ID\n",
        "JOIN\n",
        "    LOCATION L ON D.LOCATION_ID = L.LOCATION_ID\n",
        "WHERE\n",
        "    L.CITY = 'Dallas'\n",
        "''')\n",
        "\n",
        "result = cursor.fetchone()\n",
        "\n",
        "print(result[0])\n",
        "\n",
        "conn.close()"
      ],
      "metadata": {
        "colab": {
          "base_uri": "https://localhost:8080/"
        },
        "id": "GW7kaoJEYlj0",
        "outputId": "3cdbaf1d-d21c-4887-f536-d388d0c406d0"
      },
      "execution_count": 58,
      "outputs": [
        {
          "output_type": "stream",
          "name": "stdout",
          "text": [
            "4\n"
          ]
        }
      ]
    },
    {
      "cell_type": "markdown",
      "source": [
        "8. Display all employees in sales or operation departments."
      ],
      "metadata": {
        "id": "5ECCJdm9Yukz"
      }
    },
    {
      "cell_type": "code",
      "source": [
        "import sqlite3\n",
        "\n",
        "conn = sqlite3.connect('TCompany.db')\n",
        "cursor = conn.cursor()\n",
        "\n",
        "cursor.execute('''\n",
        "SELECT\n",
        "    E.FIRST_NAME,\n",
        "    E.LAST_NAME\n",
        "FROM\n",
        "    EMPLOYEE E\n",
        "JOIN\n",
        "    DEPARTMENT D ON E.DEPARTMENT_ID = D.DEPARTMENT_ID\n",
        "WHERE\n",
        "    D.NAME IN ('Sales', 'Operations')\n",
        "''')\n",
        "\n",
        "results = cursor.fetchall()\n",
        "\n",
        "for row in results:\n",
        "    print(row)\n",
        "\n",
        "conn.close()"
      ],
      "metadata": {
        "colab": {
          "base_uri": "https://localhost:8080/"
        },
        "id": "XHI6GjrtYyF1",
        "outputId": "29a9d71d-d951-47b2-c5c7-3fb84ea37008"
      },
      "execution_count": 60,
      "outputs": [
        {
          "output_type": "stream",
          "name": "stdout",
          "text": [
            "('JOHN', 'SMITH')\n",
            "('LESLIE', 'BAKER')\n"
          ]
        }
      ]
    },
    {
      "cell_type": "markdown",
      "source": [
        "CONDITIONAL STATEMENT"
      ],
      "metadata": {
        "id": "cNhwCCzyZApU"
      }
    },
    {
      "cell_type": "markdown",
      "source": [
        "1. Display the employee details with salary grades. Use conditional statement to create a grade column."
      ],
      "metadata": {
        "id": "cStEjSaEZBST"
      }
    },
    {
      "cell_type": "code",
      "source": [
        "import sqlite3\n",
        "\n",
        "conn = sqlite3.connect('TCompany.db')\n",
        "cursor = conn.cursor()\n",
        "\n",
        "cursor.execute('''\n",
        "SELECT\n",
        "    EMPLOYEE_ID,\n",
        "    FIRST_NAME,\n",
        "    LAST_NAME,\n",
        "    SALARY,\n",
        "    CASE\n",
        "        WHEN SALARY >= 50000 THEN 'A'\n",
        "        WHEN SALARY >= 30000 AND SALARY < 50000 THEN 'B'\n",
        "        WHEN SALARY >= 10000 AND SALARY < 30000 THEN 'C'\n",
        "        ELSE 'D'\n",
        "    END AS SalaryGrade\n",
        "FROM\n",
        "    EMPLOYEE\n",
        "''')\n",
        "\n",
        "results = cursor.fetchall()\n",
        "\n",
        "for row in results:\n",
        "    print(row)\n",
        "\n",
        "conn.close()"
      ],
      "metadata": {
        "colab": {
          "base_uri": "https://localhost:8080/"
        },
        "id": "FZL9GevkZFXF",
        "outputId": "d94289eb-94fd-4f20-8654-f54b8adabe70"
      },
      "execution_count": 61,
      "outputs": [
        {
          "output_type": "stream",
          "name": "stdout",
          "text": [
            "(7369, 'JOHN', 'SMITH', 800, 'D')\n",
            "(7499, 'KEVIN', 'ALLEN', 1600, 'D')\n",
            "(7505, 'JEAN', 'DOYLE', 2850, 'D')\n",
            "(7506, 'LYNN', 'DENNIS', 2750, 'D')\n",
            "(7507, 'LESLIE', 'BAKER', 2200, 'D')\n",
            "(7521, 'CYNTHIA', 'WARK', 1250, 'D')\n"
          ]
        }
      ]
    },
    {
      "cell_type": "markdown",
      "source": [
        "2. List out the number of employees grade wise. Use conditional statement to\n",
        "create a grade column."
      ],
      "metadata": {
        "id": "7yxnXSm-ZP_k"
      }
    },
    {
      "cell_type": "code",
      "source": [
        "import sqlite3\n",
        "\n",
        "conn = sqlite3.connect('TCompany.db')\n",
        "cursor = conn.cursor()\n",
        "\n",
        "cursor.execute('''\n",
        "SELECT\n",
        "    CASE\n",
        "        WHEN SALARY >= 50000 THEN 'A'\n",
        "        WHEN SALARY >= 30000 AND SALARY < 50000 THEN 'B'\n",
        "        WHEN SALARY >= 10000 AND SALARY < 30000 THEN 'C'\n",
        "        ELSE 'D'\n",
        "    END AS SalaryGrade,\n",
        "    COUNT(*) AS NumberOfEmployees\n",
        "FROM\n",
        "    EMPLOYEE\n",
        "GROUP BY\n",
        "    SalaryGrade\n",
        "ORDER BY\n",
        "    SalaryGrade ASC\n",
        "''')\n",
        "\n",
        "results = cursor.fetchall()\n",
        "\n",
        "for row in results:\n",
        "    print(row)\n",
        "\n",
        "conn.close()"
      ],
      "metadata": {
        "colab": {
          "base_uri": "https://localhost:8080/"
        },
        "id": "m7t2ToW5ZTr-",
        "outputId": "367dd27a-1c42-4516-d28b-8a9e1126de37"
      },
      "execution_count": 62,
      "outputs": [
        {
          "output_type": "stream",
          "name": "stdout",
          "text": [
            "('D', 6)\n"
          ]
        }
      ]
    },
    {
      "cell_type": "markdown",
      "source": [
        "3. Display the employee salary grades and the number of employees between\n",
        "2000 to 5000 range of salary."
      ],
      "metadata": {
        "id": "8ZMJi87HZdQi"
      }
    },
    {
      "cell_type": "code",
      "source": [
        "import sqlite3\n",
        "\n",
        "conn = sqlite3.connect('TCompany.db')\n",
        "cursor = conn.cursor()\n",
        "\n",
        "cursor.execute('''\n",
        "SELECT\n",
        "    CASE\n",
        "        WHEN SALARY >= 50000 THEN 'A'\n",
        "        WHEN SALARY >= 30000 AND SALARY < 50000 THEN 'B'\n",
        "        WHEN SALARY >= 10000 AND SALARY < 30000 THEN 'C'\n",
        "        ELSE 'D'\n",
        "    END AS SalaryGrade,\n",
        "    COUNT(*) AS NumberOfEmployees\n",
        "FROM\n",
        "    EMPLOYEE\n",
        "WHERE\n",
        "    SALARY BETWEEN 2000 AND 5000\n",
        "GROUP BY\n",
        "    SalaryGrade\n",
        "ORDER BY\n",
        "    SalaryGrade ASC\n",
        "''')\n",
        "\n",
        "results = cursor.fetchall()\n",
        "\n",
        "for row in results:\n",
        "    print(row)\n",
        "\n",
        "conn.close()"
      ],
      "metadata": {
        "colab": {
          "base_uri": "https://localhost:8080/"
        },
        "id": "8lHqccZXZg2d",
        "outputId": "a0e0ca59-f030-47d3-9224-5ba4d99f77c0"
      },
      "execution_count": 63,
      "outputs": [
        {
          "output_type": "stream",
          "name": "stdout",
          "text": [
            "('D', 3)\n"
          ]
        }
      ]
    },
    {
      "cell_type": "markdown",
      "source": [
        "Subqueries:"
      ],
      "metadata": {
        "id": "TSuCpLk3Zror"
      }
    },
    {
      "cell_type": "markdown",
      "source": [
        "1. Display the employees list who got the maximum salary."
      ],
      "metadata": {
        "id": "CYLgAXeQZvNi"
      }
    },
    {
      "cell_type": "code",
      "source": [
        "import sqlite3\n",
        "\n",
        "conn = sqlite3.connect('TCompany.db')\n",
        "cursor = conn.cursor()\n",
        "\n",
        "cursor.execute('''\n",
        "SELECT\n",
        "    EMPLOYEE_ID,\n",
        "    FIRST_NAME,\n",
        "    LAST_NAME,\n",
        "    SALARY\n",
        "FROM\n",
        "    EMPLOYEE\n",
        "WHERE\n",
        "    SALARY = (SELECT MAX(SALARY) FROM EMPLOYEE)\n",
        "''')\n",
        "\n",
        "results = cursor.fetchall()\n",
        "\n",
        "for row in results:\n",
        "    print(row)\n",
        "\n",
        "conn.close()"
      ],
      "metadata": {
        "colab": {
          "base_uri": "https://localhost:8080/"
        },
        "id": "-LpwGo-hZyr4",
        "outputId": "54f05b7b-f2fb-4910-8a89-ea090e7cd189"
      },
      "execution_count": 64,
      "outputs": [
        {
          "output_type": "stream",
          "name": "stdout",
          "text": [
            "(7505, 'JEAN', 'DOYLE', 2850)\n"
          ]
        }
      ]
    },
    {
      "cell_type": "markdown",
      "source": [
        "2. Display the employees who are working in the sales department."
      ],
      "metadata": {
        "id": "saqub5y1Z63y"
      }
    },
    {
      "cell_type": "code",
      "source": [
        "import sqlite3\n",
        "\n",
        "conn = sqlite3.connect('TCompany.db')\n",
        "cursor = conn.cursor()\n",
        "\n",
        "cursor.execute('''\n",
        "SELECT E.EMPLOYEE_ID, E.FIRST_NAME, E.LAST_NAME\n",
        "FROM EMPLOYEE E\n",
        "JOIN DEPARTMENT D ON E.DEPARTMENT_ID = D.Department_Id\n",
        "WHERE D.Name = 'Sales';\n",
        "''')\n",
        "\n",
        "results = cursor.fetchall()\n",
        "\n",
        "for row in results:\n",
        "    print(row)\n",
        "\n",
        "conn.close()"
      ],
      "metadata": {
        "colab": {
          "base_uri": "https://localhost:8080/"
        },
        "id": "hWJZh28BZ-Ko",
        "outputId": "05226167-877d-4003-d25d-8bf521a1be08"
      },
      "execution_count": 65,
      "outputs": [
        {
          "output_type": "stream",
          "name": "stdout",
          "text": [
            "(7369, 'JOHN', 'SMITH')\n"
          ]
        }
      ]
    },
    {
      "cell_type": "markdown",
      "source": [
        "3. Display the employees who are working as 'Clerk'."
      ],
      "metadata": {
        "id": "tup7Loy_aRBt"
      }
    },
    {
      "cell_type": "code",
      "source": [
        "import sqlite3\n",
        "\n",
        "conn = sqlite3.connect('TCompany.db')\n",
        "cursor = conn.cursor()\n",
        "\n",
        "cursor.execute('''\n",
        "SELECT E.EMPLOYEE_ID, E.FIRST_NAME, E.LAST_NAME\n",
        "FROM EMPLOYEE E\n",
        "JOIN JOB J ON E.JOB_ID = J.JOB_ID\n",
        "WHERE J.Designation = 'CLERK';\n",
        "''')\n",
        "\n",
        "results = cursor.fetchall()\n",
        "\n",
        "for row in results:\n",
        "    print(row)\n",
        "\n",
        "conn.close()"
      ],
      "metadata": {
        "colab": {
          "base_uri": "https://localhost:8080/"
        },
        "id": "JB35rtW9aU4f",
        "outputId": "0b6236df-2121-4411-f119-63d1582c2f06"
      },
      "execution_count": 66,
      "outputs": [
        {
          "output_type": "stream",
          "name": "stdout",
          "text": [
            "(7369, 'JOHN', 'SMITH')\n"
          ]
        }
      ]
    },
    {
      "cell_type": "markdown",
      "source": [
        "4. Display the list of employees who are living in 'Boston'."
      ],
      "metadata": {
        "id": "tdOR4SApaecs"
      }
    },
    {
      "cell_type": "code",
      "source": [
        "import sqlite3\n",
        "\n",
        "conn = sqlite3.connect('TCompany.db')\n",
        "cursor = conn.cursor()\n",
        "\n",
        "cursor.execute('''\n",
        "SELECT E.EMPLOYEE_ID, E.FIRST_NAME, E.LAST_NAME\n",
        "FROM EMPLOYEE E\n",
        "JOIN DEPARTMENT D ON E.DEPARTMENT_ID = D.Department_Id\n",
        "JOIN LOCATION L ON D.Location_Id = L.Location_ID\n",
        "WHERE L.City = 'Boston';\n",
        "''')\n",
        "\n",
        "results = cursor.fetchall()\n",
        "\n",
        "for row in results:\n",
        "    print(row)\n",
        "\n",
        "conn.close()"
      ],
      "metadata": {
        "colab": {
          "base_uri": "https://localhost:8080/"
        },
        "id": "SjZ5yJqyahD5",
        "outputId": "11139746-3cd8-4910-f813-4f399c55cbb0"
      },
      "execution_count": 67,
      "outputs": [
        {
          "output_type": "stream",
          "name": "stdout",
          "text": [
            "(7507, 'LESLIE', 'BAKER')\n"
          ]
        }
      ]
    },
    {
      "cell_type": "markdown",
      "source": [
        "5. Find out the number of employees working in the sales department."
      ],
      "metadata": {
        "id": "Noe8Ygd8anQK"
      }
    },
    {
      "cell_type": "code",
      "source": [
        "import sqlite3\n",
        "\n",
        "conn = sqlite3.connect('TCompany.db')\n",
        "cursor = conn.cursor()\n",
        "\n",
        "cursor.execute('''\n",
        "SELECT COUNT(*)\n",
        "FROM EMPLOYEE\n",
        "WHERE DEPARTMENT_ID = (SELECT Department_Id FROM DEPARTMENT WHERE Name = 'Sales');\n",
        "''')\n",
        "\n",
        "result = cursor.fetchone()\n",
        "\n",
        "print(result[0])\n",
        "\n",
        "conn.close()"
      ],
      "metadata": {
        "colab": {
          "base_uri": "https://localhost:8080/"
        },
        "id": "NSHe6hRbarQh",
        "outputId": "820c78b3-a8e7-4282-db2f-f8f239a99cf2"
      },
      "execution_count": 68,
      "outputs": [
        {
          "output_type": "stream",
          "name": "stdout",
          "text": [
            "1\n"
          ]
        }
      ]
    },
    {
      "cell_type": "markdown",
      "source": [
        "6. Update the salaries of employees who are working as clerks on the basis of\n",
        "10%."
      ],
      "metadata": {
        "id": "PVnnBonVavd2"
      }
    },
    {
      "cell_type": "code",
      "source": [
        "import sqlite3\n",
        "\n",
        "conn = sqlite3.connect('TCompany.db')\n",
        "cursor = conn.cursor()\n",
        "\n",
        "cursor.execute('''\n",
        "UPDATE EMPLOYEE\n",
        "SET SALARY = SALARY * 1.10\n",
        "WHERE JOB_ID = (SELECT Job_ID FROM JOB WHERE Designation = 'CLERK');\n",
        "''')\n",
        "\n",
        "conn.commit()\n",
        "conn.close()"
      ],
      "metadata": {
        "id": "NSKTBvznazRo"
      },
      "execution_count": 69,
      "outputs": []
    },
    {
      "cell_type": "markdown",
      "source": [
        "7. Display the second highest salary drawing employee details."
      ],
      "metadata": {
        "id": "RKnwzNlma4Fs"
      }
    },
    {
      "cell_type": "code",
      "source": [
        "import sqlite3\n",
        "\n",
        "conn = sqlite3.connect('TCompany.db')\n",
        "cursor = conn.cursor()\n",
        "\n",
        "cursor.execute('''\n",
        "SELECT *\n",
        "FROM EMPLOYEE\n",
        "WHERE SALARY = (SELECT MAX(SALARY) FROM EMPLOYEE\n",
        "                 WHERE SALARY < (SELECT MAX(SALARY) FROM EMPLOYEE));\n",
        "''')\n",
        "\n",
        "results = cursor.fetchall()\n",
        "\n",
        "for row in results:\n",
        "    print(row)\n",
        "\n",
        "conn.close()"
      ],
      "metadata": {
        "colab": {
          "base_uri": "https://localhost:8080/"
        },
        "id": "BdDbn_NUa8HQ",
        "outputId": "23952831-c940-4b0b-bb8c-561ec1e67104"
      },
      "execution_count": 70,
      "outputs": [
        {
          "output_type": "stream",
          "name": "stdout",
          "text": [
            "(7506, 'DENNIS', 'LYNN', 'S', 671, 7839, '15-MAY-85', 2750, None, 30)\n"
          ]
        }
      ]
    },
    {
      "cell_type": "markdown",
      "source": [
        "8. List out the employees who earn more than every employee in department 30."
      ],
      "metadata": {
        "id": "H-GvjQOIbBPN"
      }
    },
    {
      "cell_type": "code",
      "source": [
        "import sqlite3\n",
        "\n",
        "conn = sqlite3.connect('TCompany.db')\n",
        "cursor = conn.cursor()\n",
        "\n",
        "cursor.execute('''\n",
        "SELECT *\n",
        "FROM EMPLOYEE\n",
        "WHERE SALARY > (SELECT MAX(SALARY) FROM EMPLOYEE WHERE DEPARTMENT_ID = 30);\n",
        "''')\n",
        "\n",
        "results = cursor.fetchall()\n",
        "\n",
        "for row in results:\n",
        "    print(row)\n",
        "\n",
        "conn.close()"
      ],
      "metadata": {
        "id": "k3eU8Zw1bE5n"
      },
      "execution_count": 71,
      "outputs": []
    },
    {
      "cell_type": "markdown",
      "source": [
        "9. Find out which department has no employees."
      ],
      "metadata": {
        "id": "aUao1kA4bNFl"
      }
    },
    {
      "cell_type": "code",
      "source": [
        "import sqlite3\n",
        "\n",
        "conn = sqlite3.connect('TCompany.db')\n",
        "cursor = conn.cursor()\n",
        "\n",
        "cursor.execute('''\n",
        "SELECT D.Name\n",
        "FROM DEPARTMENT D\n",
        "LEFT JOIN EMPLOYEE E ON D.Department_Id = E.DEPARTMENT_ID\n",
        "WHERE E.EMPLOYEE_ID IS NULL;\n",
        "''')\n",
        "\n",
        "results = cursor.fetchall()\n",
        "\n",
        "for row in results:\n",
        "    print(row)\n",
        "\n",
        "conn.close()"
      ],
      "metadata": {
        "colab": {
          "base_uri": "https://localhost:8080/"
        },
        "id": "JC-tpp8sbQ98",
        "outputId": "fed58949-d64b-469b-af83-0995872acb5d"
      },
      "execution_count": 72,
      "outputs": [
        {
          "output_type": "stream",
          "name": "stdout",
          "text": [
            "('Accounting',)\n"
          ]
        }
      ]
    },
    {
      "cell_type": "markdown",
      "source": [
        "10. Find out the employees who earn greater than the average salary for\n",
        "their department."
      ],
      "metadata": {
        "id": "YdG4kbpXbY4G"
      }
    },
    {
      "cell_type": "code",
      "source": [
        "import sqlite3\n",
        "\n",
        "conn = sqlite3.connect('TCompany.db')\n",
        "cursor = conn.cursor()\n",
        "\n",
        "cursor.execute('''\n",
        "SELECT E.EMPLOYEE_ID, E.FIRST_NAME, E.LAST_NAME, E.SALARY, D.Name\n",
        "FROM EMPLOYEE E\n",
        "JOIN DEPARTMENT D ON E.DEPARTMENT_ID = D.Department_Id\n",
        "WHERE E.SALARY > (SELECT AVG(SALARY) FROM EMPLOYEE WHERE DEPARTMENT_ID = E.DEPARTMENT_ID);\n",
        "''')\n",
        "\n",
        "results = cursor.fetchall()\n",
        "\n",
        "for row in results:\n",
        "    print(row)\n",
        "\n",
        "conn.close()"
      ],
      "metadata": {
        "colab": {
          "base_uri": "https://localhost:8080/"
        },
        "id": "8llNj097bcwC",
        "outputId": "c7bcb9ec-890d-42de-e167-2768c0ead93e"
      },
      "execution_count": 73,
      "outputs": [
        {
          "output_type": "stream",
          "name": "stdout",
          "text": [
            "(7505, 'JEAN', 'DOYLE', 2850, 'Research')\n",
            "(7506, 'LYNN', 'DENNIS', 2750, 'Research')\n"
          ]
        }
      ]
    }
  ]
}
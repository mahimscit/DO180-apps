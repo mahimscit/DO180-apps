{
  "nbformat": 4,
  "nbformat_minor": 0,
  "metadata": {
    "colab": {
      "provenance": [],
      "authorship_tag": "ABX9TyMoXOQ+y5LHvNuO3E31C2RC",
      "include_colab_link": true
    },
    "kernelspec": {
      "name": "python3",
      "display_name": "Python 3"
    },
    "language_info": {
      "name": "python"
    }
  },
  "cells": [
    {
      "cell_type": "markdown",
      "metadata": {
        "id": "view-in-github",
        "colab_type": "text"
      },
      "source": [
        "<a href=\"https://colab.research.google.com/github/mahimscit/DO180-apps/blob/master/Python_OOPs_Assignment.ipynb\" target=\"_parent\"><img src=\"https://colab.research.google.com/assets/colab-badge.svg\" alt=\"Open In Colab\"/></a>"
      ]
    },
    {
      "cell_type": "markdown",
      "source": [
        "Python OOPs Assignment"
      ],
      "metadata": {
        "id": "l9Th_8Getmcl"
      }
    },
    {
      "cell_type": "markdown",
      "source": [
        "Q1. Write a Python program to demonstrate multiple inheritance."
      ],
      "metadata": {
        "id": "l9DLbFyftqpD"
      }
    },
    {
      "cell_type": "code",
      "execution_count": 2,
      "metadata": {
        "colab": {
          "base_uri": "https://localhost:8080/"
        },
        "id": "oNWtf9dEtil0",
        "outputId": "54e4f728-cf68-4a63-ab18-e6b7fcd54f76"
      },
      "outputs": [
        {
          "output_type": "stream",
          "name": "stdout",
          "text": [
            "Enter Employee ID: 10001\n",
            "Enter Gender: F\n",
            "Enter Salary: 80000\n",
            "Enter Performance Rating (Out of 5): 3\n",
            "Enter Date of Joining (YYYY-MM-DD): 2023-06-10\n",
            "Enter Employee ID: 10003\n",
            "Enter Gender: M\n",
            "Enter Salary: 120000\n",
            "Enter Performance Rating (Out of 5): 3\n",
            "Enter Date of Joining (YYYY-MM-DD): 2020-04-06\n",
            "Enter Employee ID: 10006\n",
            "Enter Gender: M\n",
            "Enter Salary: 300000\n",
            "Enter Performance Rating (Out of 5): 2\n",
            "Enter Date of Joining (YYYY-MM-DD): 2021-09-20\n",
            "Enter Employee ID: 10005\n",
            "Enter Gender: F\n",
            "Enter Salary: 230000\n",
            "Enter Performance Rating (Out of 5): 2\n",
            "Enter Date of Joining (YYYY-MM-DD): 2019-08-14\n",
            "Enter Employee ID: 10008\n",
            "Enter Gender: M\n",
            "Enter Salary: 240000\n",
            "Enter Performance Rating (Out of 5): 4\n",
            "Enter Date of Joining (YYYY-MM-DD): 2018-09-24\n",
            "\n",
            "Top 3 Employees:\n",
            "Employee ID: 10008\n",
            "Gender: M\n",
            "Salary: 240000\n",
            "Performance Rating: 4\n",
            "Date of Joining: 2018-09-24\n",
            "--------------------\n",
            "Employee ID: 10003\n",
            "Gender: M\n",
            "Salary: 120000\n",
            "Performance Rating: 3\n",
            "Date of Joining: 2020-04-06\n",
            "--------------------\n",
            "Employee ID: 10001\n",
            "Gender: F\n",
            "Salary: 80000\n",
            "Performance Rating: 3\n",
            "Date of Joining: 2023-06-10\n",
            "--------------------\n"
          ]
        }
      ],
      "source": [
        "from datetime import date, datetime\n",
        "\n",
        "class Employee:\n",
        "    def __init__(self):\n",
        "        self.EmployeeID = 0\n",
        "        self.Gender = \"\"\n",
        "        self.Salary = 0\n",
        "        self.PerformanceRating = 0\n",
        "\n",
        "    def get(self):\n",
        "        self.EmployeeID = int(input(\"Enter Employee ID: \"))\n",
        "        self.Gender = input(\"Enter Gender: \")\n",
        "        self.Salary = int(input(\"Enter Salary: \"))\n",
        "        self.PerformanceRating = int(input(\"Enter Performance Rating (Out of 5): \"))\n",
        "\n",
        "class JoiningDetail:\n",
        "    def __init__(self):\n",
        "        self.DateOfJoining = date.today()\n",
        "\n",
        "    def getDoJ(self):\n",
        "\n",
        "        while True:\n",
        "            try:\n",
        "                date_str = input(\"Enter Date of Joining (YYYY-MM-DD): \")\n",
        "                self.DateOfJoining = datetime.strptime(date_str, \"%Y-%m-%d\").date()\n",
        "                break\n",
        "            except ValueError:\n",
        "                print(\"Invalid date format. Please use YYYY-MM-DD.\")\n",
        "\n",
        "class Information(Employee, JoiningDetail):\n",
        "    def __init__(self):\n",
        "        Employee.__init__(self)\n",
        "        JoiningDetail.__init__(self)\n",
        "\n",
        "    def readData(self, employees):\n",
        "\n",
        "        employees.sort(key=lambda emp: (-emp.PerformanceRating, emp.DateOfJoining))\n",
        "\n",
        "        print(\"\\nTop 3 Employees:\")\n",
        "        for i in range(min(3, len(employees))):  # Limit to top 3\n",
        "            emp = employees[i]\n",
        "            print(f\"Employee ID: {emp.EmployeeID}\")\n",
        "            print(f\"Gender: {emp.Gender}\")\n",
        "            print(f\"Salary: {emp.Salary}\")\n",
        "            print(f\"Performance Rating: {emp.PerformanceRating}\")\n",
        "            print(f\"Date of Joining: {emp.DateOfJoining.strftime('%Y-%m-%d')}\")\n",
        "            print(\"-\" * 20)\n",
        "\n",
        "employees = []\n",
        "for i in range(5):\n",
        "    emp = Information()\n",
        "    emp.get()\n",
        "    emp.getDoJ()\n",
        "    employees.append(emp)\n",
        "\n",
        "info = Information()\n",
        "info.readData(employees)"
      ]
    },
    {
      "cell_type": "markdown",
      "source": [
        "Q.2 Write a Python program to demonstrate Polymorphism."
      ],
      "metadata": {
        "id": "7fEzRGkcw8SP"
      }
    },
    {
      "cell_type": "code",
      "source": [
        "class Vehicle:\n",
        "    def Fare(self, fare):\n",
        "        return fare\n",
        "\n",
        "Bus = Vehicle()\n",
        "Car = Vehicle()\n",
        "Train = Vehicle()\n",
        "Truck = Vehicle()\n",
        "Ship = Vehicle()\n",
        "\n",
        "bus_fare = Bus.Fare(100)\n",
        "car_fare = Car.Fare(50)\n",
        "train_fare = Train.Fare(75)\n",
        "truck_fare = Truck.Fare(150)\n",
        "ship_fare = Ship.Fare(200)\n",
        "\n",
        "TotalFare = bus_fare + car_fare + train_fare + truck_fare + ship_fare\n",
        "\n",
        "print(\"Total Fare:\", TotalFare)"
      ],
      "metadata": {
        "colab": {
          "base_uri": "https://localhost:8080/"
        },
        "id": "ZKoq5Ms0w_km",
        "outputId": "0310586a-d3a1-4498-f250-9813fee1b96f"
      },
      "execution_count": 3,
      "outputs": [
        {
          "output_type": "stream",
          "name": "stdout",
          "text": [
            "Total Fare: 575\n"
          ]
        }
      ]
    },
    {
      "cell_type": "markdown",
      "source": [
        "Q3. Consider an ongoing test cricket series. Following are the names of the players and their scores in the test1 and 2."
      ],
      "metadata": {
        "id": "NQxijsvYxN2y"
      }
    },
    {
      "cell_type": "code",
      "source": [
        "def Max_Score(M):\n",
        "\n",
        "    player_scores = {}\n",
        "    for match, scores in M.items():\n",
        "        for player, score in scores.items():\n",
        "            player_scores[player] = player_scores.get(player, 0) + score\n",
        "\n",
        "    top_player = max(player_scores, key=player_scores.get)\n",
        "    top_score = player_scores[top_player]\n",
        "\n",
        "    return (top_player, top_score)\n",
        "\n",
        "match_scores = {\n",
        "    'test1': {'Dhoni': 56, 'Balaji': 85},\n",
        "    'test2': {'Dhoni': 87, 'Balaji': 200}\n",
        "}\n",
        "top_player, top_score = Max_Score(match_scores)\n",
        "print(f\"Top Player: {top_player}, Total Score: {top_score}\")"
      ],
      "metadata": {
        "colab": {
          "base_uri": "https://localhost:8080/"
        },
        "id": "qMV4UvZkxUvr",
        "outputId": "7a9940c3-b36a-42aa-aed0-6311f4545859"
      },
      "execution_count": 4,
      "outputs": [
        {
          "output_type": "stream",
          "name": "stdout",
          "text": [
            "Top Player: Balaji, Total Score: 285\n"
          ]
        }
      ]
    },
    {
      "cell_type": "markdown",
      "source": [
        "Q4. Create a simple Card game in which there are 8 cards which are randomly chosen from a deck. The first card is shown face up. The game asks the player to predict whether the next card in the selection will have a higher or lower value than the currently showing card."
      ],
      "metadata": {
        "id": "4dKaVoNSxzqA"
      }
    },
    {
      "cell_type": "code",
      "source": [
        "import random\n",
        "\n",
        "def card_game():\n",
        "\n",
        "    cards = [1, 2, 3, 4, 5, 6, 7, 8, 9, 10, 11, 12, 13] * 4\n",
        "    random.shuffle(cards)\n",
        "\n",
        "    selected_cards = random.sample(cards, 8)\n",
        "    score = 0\n",
        "    current_card = selected_cards[0]\n",
        "\n",
        "\n",
        "    print(\"Welcome to the Mees Card Game!\")\n",
        "    print(f\"The first card is: {current_card}\")\n",
        "\n",
        "    for i in range(1, len(selected_cards)):\n",
        "        prediction = input(\"Will the next card be higher or lower? (h/l): \").lower()\n",
        "        next_card = selected_cards[i]\n",
        "        print(f\"The next card is: {next_card}\")\n",
        "\n",
        "        if prediction == 'h' and next_card > current_card:\n",
        "            score += 20\n",
        "            print(\"Correct! You gain 20 points.\")\n",
        "        elif prediction == 'l' and next_card < current_card:\n",
        "            score += 20\n",
        "            print(\"Correct! You gain 20 points.\")\n",
        "        else:\n",
        "            score -= 15\n",
        "            print(\"Incorrect! You lose 15 points.\")\n",
        "\n",
        "        current_card = next_card\n",
        "\n",
        "    print(f\"\\nGame Over! Your final score is: {score}\")\n",
        "\n",
        "card_game()"
      ],
      "metadata": {
        "colab": {
          "base_uri": "https://localhost:8080/"
        },
        "id": "VYTCLtI4x6ti",
        "outputId": "bf893bf9-293a-4f70-c67f-29f2838a7ba9"
      },
      "execution_count": 12,
      "outputs": [
        {
          "output_type": "stream",
          "name": "stdout",
          "text": [
            "Welcome to the Mees Card Game!\n",
            "The first card is: 5\n",
            "Will the next card be higher or lower? (h/l): l\n",
            "The next card is: 10\n",
            "Incorrect! You lose 15 points.\n",
            "Will the next card be higher or lower? (h/l): h\n",
            "The next card is: 4\n",
            "Incorrect! You lose 15 points.\n",
            "Will the next card be higher or lower? (h/l): h\n",
            "The next card is: 5\n",
            "Correct! You gain 20 points.\n",
            "Will the next card be higher or lower? (h/l): h\n",
            "The next card is: 8\n",
            "Correct! You gain 20 points.\n",
            "Will the next card be higher or lower? (h/l): h\n",
            "The next card is: 8\n",
            "Incorrect! You lose 15 points.\n",
            "Will the next card be higher or lower? (h/l): h\n",
            "The next card is: 9\n",
            "Correct! You gain 20 points.\n",
            "Will the next card be higher or lower? (h/l): h\n",
            "The next card is: 6\n",
            "Incorrect! You lose 15 points.\n",
            "\n",
            "Game Over! Your final score is: 0\n"
          ]
        }
      ]
    },
    {
      "cell_type": "markdown",
      "source": [
        "Q5. Create an empty dictionary called Car\n",
        "_\n",
        "0 . Then fill the dictionary with Keys : color , speed\n",
        ", X\n",
        "_position and Y\n",
        "_position."
      ],
      "metadata": {
        "id": "DK_lic1ozDK2"
      }
    },
    {
      "cell_type": "code",
      "source": [
        "car_0 = {}\n",
        "\n",
        "car_0['color'] = 'red'\n",
        "car_0['speed'] = 'medium'\n",
        "car_0['x_position'] = 10\n",
        "car_0['y_position'] = 72\n",
        "\n",
        "if car_0['speed'] == 'slow':\n",
        "    car_0['x_position'] += 2\n",
        "elif car_0['speed'] == 'medium':\n",
        "    car_0['x_position'] += 9\n",
        "elif car_0['speed'] == 'fast':\n",
        "    car_0['x_position'] += 22\n",
        "\n",
        "print(car_0)"
      ],
      "metadata": {
        "colab": {
          "base_uri": "https://localhost:8080/"
        },
        "id": "tJP1E7_SzGfV",
        "outputId": "5ededa2f-aad3-41ba-db72-500057383a55"
      },
      "execution_count": 13,
      "outputs": [
        {
          "output_type": "stream",
          "name": "stdout",
          "text": [
            "{'color': 'red', 'speed': 'medium', 'x_position': 19, 'y_position': 72}\n"
          ]
        }
      ]
    },
    {
      "cell_type": "markdown",
      "source": [
        "Q6. Show a basic implementation of abstraction in python using the abstract classes."
      ],
      "metadata": {
        "id": "vdoj87Wgzd9L"
      }
    },
    {
      "cell_type": "code",
      "source": [
        "from abc import ABC, abstractmethod\n",
        "\n",
        "class Shape(ABC):\n",
        "    @abstractmethod\n",
        "    def area(self):\n",
        "        pass\n",
        "\n",
        "    @abstractmethod\n",
        "    def perimeter(self):\n",
        "        pass\n",
        "\n",
        "class Circle(Shape):\n",
        "    def __init__(self, radius):\n",
        "        self.radius = radius\n",
        "\n",
        "    def area(self):\n",
        "        return 3.14 * self.radius * self.radius\n",
        "\n",
        "    def perimeter(self):\n",
        "        return 2 * 3.14 * self.radius\n",
        "\n",
        "class Square(Shape):\n",
        "    def __init__(self, side):\n",
        "        self.side = side\n",
        "\n",
        "    def area(self):\n",
        "        return self.side * self.side\n",
        "\n",
        "    def perimeter(self):\n",
        "        return 4 * self.side\n",
        "\n",
        "circle = Circle(5)\n",
        "print(f\"Circle Area: {circle.area()}\")\n",
        "print(f\"Circle Perimeter: {circle.perimeter()}\")\n",
        "\n",
        "square = Square(4)\n",
        "print(f\"Square Area: {square.area()}\")\n",
        "print(f\"Square Perimeter: {square.perimeter()}\")"
      ],
      "metadata": {
        "colab": {
          "base_uri": "https://localhost:8080/"
        },
        "id": "aEZhlxhRzhch",
        "outputId": "33d70ca0-3618-4a52-c6e3-e5bff717ed3a"
      },
      "execution_count": 14,
      "outputs": [
        {
          "output_type": "stream",
          "name": "stdout",
          "text": [
            "Circle Area: 78.5\n",
            "Circle Perimeter: 31.400000000000002\n",
            "Square Area: 16\n",
            "Square Perimeter: 16\n"
          ]
        }
      ]
    },
    {
      "cell_type": "markdown",
      "source": [
        "Q7. Create a program in python to demonstrate Polymorphism."
      ],
      "metadata": {
        "id": "_fq9fmN9zwyu"
      }
    },
    {
      "cell_type": "code",
      "source": [
        "class Animal:\n",
        "    def __init__(self, name):\n",
        "        self.__name = name\n",
        "        self._type = \"Animal\"\n",
        "\n",
        "    def make_sound(self):\n",
        "        print(\"Generic animal sound\")\n",
        "\n",
        "    def get_name(self):\n",
        "        return self.__name\n",
        "\n",
        "class Dog(Animal):\n",
        "    def __init__(self, name):\n",
        "        super().__init__(name)\n",
        "        self._type = \"Dog\"\n",
        "\n",
        "    def make_sound(self):\n",
        "        print(\"Woof!\")\n",
        "\n",
        "class Cat(Animal):\n",
        "    def __init__(self, name):\n",
        "        super().__init__(name)\n",
        "        self._type = \"Cat\"\n",
        "\n",
        "    def make_sound(self):\n",
        "        print(\"Meow!\")\n",
        "\n",
        "animals = [Dog(\"Buddy\"), Cat(\"Whiskers\")]\n",
        "\n",
        "for animal in animals:\n",
        "    print(f\"{animal.get_name()} ({animal._type}) says:\", end=\" \")\n",
        "    animal.make_sound()"
      ],
      "metadata": {
        "colab": {
          "base_uri": "https://localhost:8080/"
        },
        "id": "VVqa6Jfdzz4L",
        "outputId": "50c1b303-656f-4155-83f7-6d26f998f84f"
      },
      "execution_count": 15,
      "outputs": [
        {
          "output_type": "stream",
          "name": "stdout",
          "text": [
            "Buddy (Dog) says: Woof!\n",
            "Whiskers (Cat) says: Meow!\n"
          ]
        }
      ]
    },
    {
      "cell_type": "markdown",
      "source": [
        "Q8. Given a list of 50 natural numbers from 1-50. Create a function that will take every element\n",
        "from the list and return the square of each element. Use the python map and filter methods to\n",
        "implement the function on the given list."
      ],
      "metadata": {
        "id": "ELp47nZk0Ebh"
      }
    },
    {
      "cell_type": "code",
      "source": [
        "def square_numbers(numbers):\n",
        "    squared_numbers = list(map(lambda x: x**2, numbers))\n",
        "    return squared_numbers\n",
        "\n",
        "natural_numbers = list(range(1, 51))\n",
        "\n",
        "squared_natural_numbers = square_numbers(natural_numbers)\n",
        "\n",
        "print(squared_natural_numbers)"
      ],
      "metadata": {
        "colab": {
          "base_uri": "https://localhost:8080/"
        },
        "id": "E6yhn1aD0H15",
        "outputId": "c9ec0207-0337-4f86-e574-d23efd145c3a"
      },
      "execution_count": 17,
      "outputs": [
        {
          "output_type": "stream",
          "name": "stdout",
          "text": [
            "[1, 4, 9, 16, 25, 36, 49, 64, 81, 100, 121, 144, 169, 196, 225, 256, 289, 324, 361, 400, 441, 484, 529, 576, 625, 676, 729, 784, 841, 900, 961, 1024, 1089, 1156, 1225, 1296, 1369, 1444, 1521, 1600, 1681, 1764, 1849, 1936, 2025, 2116, 2209, 2304, 2401, 2500]\n"
          ]
        }
      ]
    },
    {
      "cell_type": "markdown",
      "source": [
        "Q9. Create a class, Triangle. Its init() method should take self, angle1, angle2, and angle3 as\n",
        "arguments."
      ],
      "metadata": {
        "id": "8zum1o6K0Zxo"
      }
    },
    {
      "cell_type": "code",
      "source": [
        "class Triangle:\n",
        "    def __init__(self, angle1, angle2, angle3):\n",
        "        self.angle1 = angle1\n",
        "        self.angle2 = angle2\n",
        "        self.angle3 = angle3\n",
        "\n",
        "triangle = Triangle(60, 60, 60)\n",
        "print(triangle.angle1)"
      ],
      "metadata": {
        "colab": {
          "base_uri": "https://localhost:8080/"
        },
        "id": "GFo8fXbP0cNL",
        "outputId": "9633547f-2bc2-47f8-f385-9c3b6a32f7a2"
      },
      "execution_count": 18,
      "outputs": [
        {
          "output_type": "stream",
          "name": "stdout",
          "text": [
            "60\n"
          ]
        }
      ]
    },
    {
      "cell_type": "markdown",
      "source": [
        "Q10. Create a class variable named number\n",
        "of\n",
        "_\n",
        "_\n",
        "sides and set it equal to 3."
      ],
      "metadata": {
        "id": "6EMYUT780kmE"
      }
    },
    {
      "cell_type": "code",
      "source": [
        "class Triangle:\n",
        "    number_of_sides = 3\n",
        "\n",
        "    def __init__(self, angle1, angle2, angle3):\n",
        "        self.angle1 = angle1\n",
        "        self.angle2 = angle2\n",
        "        self.angle3 = angle3\n",
        "\n",
        "print(Triangle.number_of_sides)"
      ],
      "metadata": {
        "colab": {
          "base_uri": "https://localhost:8080/"
        },
        "id": "JK4s9gq-0nfK",
        "outputId": "a1c2a0c6-2422-4806-9651-a9fb067a5c45"
      },
      "execution_count": 19,
      "outputs": [
        {
          "output_type": "stream",
          "name": "stdout",
          "text": [
            "3\n"
          ]
        }
      ]
    },
    {
      "cell_type": "markdown",
      "source": [
        "Q11. Create a method named check\n",
        "_\n",
        "angles. The sum of a triangle's three angles should return\n",
        "True if the sum is equal to 180, and False otherwise. The method should print whether the\n",
        "angles belong to a triangle or not."
      ],
      "metadata": {
        "id": "GiNTcpbv0woa"
      }
    },
    {
      "cell_type": "code",
      "source": [
        "class Triangle:\n",
        "    number_of_sides = 3\n",
        "\n",
        "    def __init__(self, angle1, angle2, angle3):\n",
        "        self.angle1 = angle1\n",
        "        self.angle2 = angle2\n",
        "        self.angle3 = angle3\n",
        "\n",
        "    def check_angles(self):\n",
        "        if self.angle1 + self.angle2 + self.angle3 == 180:\n",
        "            print(\"The angles form a valid triangle.\")\n",
        "            return True\n",
        "        else:\n",
        "            print(\"The angles do not form a valid triangle.\")\n",
        "            return False\n",
        "\n",
        "    def is_acute(self):\n",
        "        if self.angle1 < 90 and self.angle2 < 90 and self.angle3 < 90:\n",
        "            print(\"The triangle is an acute triangle.\")\n",
        "            return True\n",
        "        else:\n",
        "            return False\n",
        "\n",
        "    def is_obtuse(self):\n",
        "        if self.angle1 > 90 or self.angle2 > 90 or self.angle3 > 90:\n",
        "            print(\"The triangle is an obtuse triangle.\")\n",
        "            return True\n",
        "        else:\n",
        "            return False\n",
        "\n",
        "class IsoscelesTriangle(Triangle):\n",
        "    def is_isosceles(self):\n",
        "        if self.angle1 == self.angle2 or self.angle2 == self.angle3 or self.angle1 == self.angle3:\n",
        "            print(\"The triangle is an isosceles triangle.\")\n",
        "            return True\n",
        "        else:\n",
        "            return False\n",
        "\n",
        "class RightTriangle(Triangle):\n",
        "    def is_right(self):\n",
        "        if self.angle1 == 90 or self.angle2 == 90 or self.angle3 == 90:\n",
        "            print(\"The triangle is a right triangle.\")\n",
        "            return True\n",
        "        else:\n",
        "            return False\n",
        "\n",
        "class EquilateralTriangle(Triangle):\n",
        "    def is_equilateral(self):\n",
        "        if self.angle1 == self.angle2 == self.angle3 == 60:\n",
        "            print(\"The triangle is an equilateral triangle.\")\n",
        "            return True\n",
        "        else:\n",
        "            return False\n",
        "\n",
        "triangle = Triangle(60, 60, 60)\n",
        "triangle.check_angles()\n",
        "triangle.is_acute()\n",
        "triangle.is_obtuse()\n",
        "\n",
        "isosceles_triangle = IsoscelesTriangle(70, 70, 40)\n",
        "isosceles_triangle.is_isosceles()\n",
        "\n",
        "right_triangle = RightTriangle(90, 45, 45)\n",
        "right_triangle.is_right()\n",
        "\n",
        "equilateral_triangle = EquilateralTriangle(60, 60, 60)\n",
        "equilateral_triangle.is_equilateral()"
      ],
      "metadata": {
        "colab": {
          "base_uri": "https://localhost:8080/"
        },
        "id": "eHq2FZIj08rd",
        "outputId": "11a40fa2-c899-478f-feb6-d75d68bb0be8"
      },
      "execution_count": 20,
      "outputs": [
        {
          "output_type": "stream",
          "name": "stdout",
          "text": [
            "The angles form a valid triangle.\n",
            "The triangle is an acute triangle.\n",
            "The triangle is an isosceles triangle.\n",
            "The triangle is a right triangle.\n",
            "The triangle is an equilateral triangle.\n"
          ]
        },
        {
          "output_type": "execute_result",
          "data": {
            "text/plain": [
              "True"
            ]
          },
          "metadata": {},
          "execution_count": 20
        }
      ]
    },
    {
      "cell_type": "markdown",
      "source": [
        "Q12. Create a class isosceles\n",
        "_\n",
        "right\n",
        "_\n",
        "triangle which inherits from isosceles\n",
        "_\n",
        "right\n",
        "_\n",
        "triangle."
      ],
      "metadata": {
        "id": "DzNcnBCZ1ZCm"
      }
    },
    {
      "cell_type": "code",
      "source": [
        "class Triangle:\n",
        "    number_of_sides = 3\n",
        "\n",
        "    def __init__(self, angle1, angle2, angle3):\n",
        "        self.angle1 = angle1\n",
        "        self.angle2 = angle2\n",
        "        self.angle3 = angle3\n",
        "\n",
        "    def check_angles(self):\n",
        "        if self.angle1 + self.angle2 + self.angle3 == 180:\n",
        "            print(\"The angles form a valid triangle.\")\n",
        "            return True\n",
        "        else:\n",
        "            print(\"The angles do not form a valid triangle.\")\n",
        "            return False\n",
        "\n",
        "    def is_acute(self):\n",
        "        if self.angle1 < 90 and self.angle2 < 90 and self.angle3 < 90:\n",
        "            print(\"The triangle is an acute triangle.\")\n",
        "            return True\n",
        "        else:\n",
        "            return False\n",
        "\n",
        "    def is_obtuse(self):\n",
        "        if self.angle1 > 90 or self.angle2 > 90 or self.angle3 > 90:\n",
        "            print(\"The triangle is an obtuse triangle.\")\n",
        "            return True\n",
        "        else:\n",
        "            return False\n",
        "\n",
        "class IsoscelesTriangle(Triangle):\n",
        "    def is_isosceles(self):\n",
        "        if self.angle1 == self.angle2 or self.angle2 == self.angle3 or self.angle1 == self.angle3:\n",
        "            print(\"The triangle is an isosceles triangle.\")\n",
        "            return True\n",
        "        else:\n",
        "            return False\n",
        "\n",
        "class RightTriangle(Triangle):\n",
        "    def is_right(self):\n",
        "        if self.angle1 == 90 or self.angle2 == 90 or self.angle3 == 90:\n",
        "            print(\"The triangle is a right triangle.\")\n",
        "            return True\n",
        "        else:\n",
        "            return False\n",
        "\n",
        "class IsoscelesRightTriangle(IsoscelesTriangle, RightTriangle):\n",
        "    def is_isosceles_right(self):\n",
        "        if self.is_isosceles() and self.is_right():\n",
        "            print(\"The triangle is an isosceles right triangle.\")\n",
        "            return True\n",
        "        else:\n",
        "            return False\n",
        "\n",
        "isosceles_right_triangle = IsoscelesRightTriangle(90, 45, 45)\n",
        "isosceles_right_triangle.is_isosceles_right()"
      ],
      "metadata": {
        "colab": {
          "base_uri": "https://localhost:8080/"
        },
        "id": "GEuvQERW1eB-",
        "outputId": "f5cf25d7-31fa-40b1-d9c5-437ec4a5d2b2"
      },
      "execution_count": 21,
      "outputs": [
        {
          "output_type": "stream",
          "name": "stdout",
          "text": [
            "The triangle is an isosceles triangle.\n",
            "The triangle is a right triangle.\n",
            "The triangle is an isosceles right triangle.\n"
          ]
        },
        {
          "output_type": "execute_result",
          "data": {
            "text/plain": [
              "True"
            ]
          },
          "metadata": {},
          "execution_count": 21
        }
      ]
    }
  ]
}
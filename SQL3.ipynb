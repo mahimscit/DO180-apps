{
  "nbformat": 4,
  "nbformat_minor": 0,
  "metadata": {
    "colab": {
      "provenance": [],
      "authorship_tag": "ABX9TyM/1N55n7NuwdOANTkSPwiJ",
      "include_colab_link": true
    },
    "kernelspec": {
      "name": "python3",
      "display_name": "Python 3"
    },
    "language_info": {
      "name": "python"
    }
  },
  "cells": [
    {
      "cell_type": "markdown",
      "metadata": {
        "id": "view-in-github",
        "colab_type": "text"
      },
      "source": [
        "<a href=\"https://colab.research.google.com/github/mahimscit/DO180-apps/blob/master/SQL3.ipynb\" target=\"_parent\"><img src=\"https://colab.research.google.com/assets/colab-badge.svg\" alt=\"Open In Colab\"/></a>"
      ]
    },
    {
      "cell_type": "markdown",
      "source": [
        "SQL Mandatory Assignment 3"
      ],
      "metadata": {
        "id": "FfapU4AwmK5y"
      }
    },
    {
      "cell_type": "code",
      "source": [
        "import sqlite3\n",
        "\n",
        "def create_and_populate_database(db_file):\n",
        "\n",
        "    conn = sqlite3.connect(db_file)\n",
        "    cursor = conn.cursor()\n",
        "\n",
        "    try:\n",
        "\n",
        "        cursor.executescript(\"\"\"\n",
        "            CREATE TABLE Restaurants (\n",
        "                RestaurantID INT PRIMARY KEY,\n",
        "                RestaurantName TEXT,\n",
        "                Cuisine TEXT,\n",
        "                Area TEXT,\n",
        "                Rating FLOAT,\n",
        "                AvgCostForTwo INT\n",
        "            );\n",
        "\n",
        "            CREATE TABLE Users (\n",
        "                UserID INT PRIMARY KEY,\n",
        "                UserName TEXT,\n",
        "                Email TEXT\n",
        "            );\n",
        "\n",
        "            CREATE TABLE Orders (\n",
        "                OrderID INT PRIMARY KEY,\n",
        "                UserID INT,\n",
        "                RestaurantID INT,\n",
        "                OrderDate DATETIME,\n",
        "                TotalAmount FLOAT,\n",
        "                FOREIGN KEY (UserID) REFERENCES Users(UserID),\n",
        "                FOREIGN KEY (RestaurantID) REFERENCES Restaurants(RestaurantID)\n",
        "            );\n",
        "\n",
        "            CREATE TABLE Reviews (\n",
        "                ReviewID INT PRIMARY KEY,\n",
        "                UserID INT,\n",
        "                RestaurantID INT,\n",
        "                Rating INT,\n",
        "                ReviewText TEXT,\n",
        "                FOREIGN KEY (UserID) REFERENCES Users(UserID),\n",
        "                FOREIGN KEY (RestaurantID) REFERENCES Restaurants(RestaurantID)\n",
        "            );\n",
        "        \"\"\")\n",
        "\n",
        "\n",
        "        cursor.executemany(\"INSERT INTO Restaurants VALUES (?, ?, ?, ?, ?, ?)\", [\n",
        "            (1, 'The Italian Place', 'Italian', 'Downtown', 4.5, 60),\n",
        "            (2, 'Spice Delight', 'Indian', 'Uptown', 4.2, 50),\n",
        "            (3, 'Taco Fiesta', 'Mexican', 'Midtown', 4.0, 45),\n",
        "            (4, 'Sushi Heaven', 'Japanese', 'Downtown', 4.7, 75),\n",
        "            (5, 'Burger Joint', 'American', 'Uptown', 4.3, 55)\n",
        "        ])\n",
        "\n",
        "\n",
        "        cursor.executemany(\"INSERT INTO Users VALUES (?, ?, ?)\", [\n",
        "            (1, 'Alice', 'alice@example.com'),\n",
        "            (2, 'Bob', 'bob@example.com'),\n",
        "            (3, 'Charlie', 'charlie@example.com')\n",
        "        ])\n",
        "\n",
        "\n",
        "        cursor.executemany(\"INSERT INTO Orders VALUES (?, ?, ?, ?, ?)\", [\n",
        "            (1, 1, 2, '2023-11-15 19:30:00', 55.00),\n",
        "            (2, 2, 1, '2023-11-16 20:15:00', 62.50),\n",
        "            (3, 3, 4, '2023-11-17 18:45:00', 80.00),\n",
        "            (4, 1, 3, '2023-11-18 12:30:00', 48.75),\n",
        "            (5, 2, 5, '2023-11-19 21:00:00', 60.00)\n",
        "        ])\n",
        "\n",
        "\n",
        "        cursor.executemany(\"INSERT INTO Reviews VALUES (?, ?, ?, ?, ?)\", [\n",
        "            (1, 1, 2, 5, 'Amazing food and service!'),\n",
        "            (2, 2, 1, 4, 'Good Italian food, a bit pricey.'),\n",
        "            (3, 3, 4, 5, 'Best sushi I''ve ever had!'),\n",
        "            (4, 1, 3, 3, 'Tacos were okay, but service was slow.'),\n",
        "            (5, 2, 5, 4, 'Great burgers and fries!')\n",
        "        ])\n",
        "\n",
        "        conn.commit()\n",
        "        print(\"Database created and populated successfully!\")\n",
        "\n",
        "    except sqlite3.Error as e:\n",
        "        print(f\"An error occurred: {e}\")\n",
        "\n",
        "    finally:\n",
        "        conn.close()\n",
        "\n",
        "\n",
        "database_file = 'Jomato.db'"
      ],
      "metadata": {
        "id": "fdUhgtzduJ3q"
      },
      "execution_count": 31,
      "outputs": []
    },
    {
      "cell_type": "markdown",
      "source": [
        "1 . Create a stored procedure to display the restaurant name, type and cuisine where the\n",
        "table booking is not zero."
      ],
      "metadata": {
        "id": "OGcRt5PomM0f"
      }
    },
    {
      "cell_type": "code",
      "source": [
        "import sqlite3\n",
        "\n",
        "\n",
        "conn = sqlite3.connect('Jomato.db')\n",
        "cursor = conn.cursor()\n",
        "\n",
        "cursor.execute(\"ALTER TABLE Restaurants ADD COLUMN TableBooking BOOLEAN;\")\n",
        "\n",
        "\n",
        "cursor.execute(\"UPDATE Restaurants SET TableBooking = 1 WHERE RestaurantID IN (1, 2, 4);\")\n",
        "cursor.execute(\"UPDATE Restaurants SET TableBooking = 0 WHERE RestaurantID IN (3, 5);\")\n",
        "\n",
        "conn.commit()\n"
      ],
      "metadata": {
        "id": "_O9RPY-3vwjJ"
      },
      "execution_count": 33,
      "outputs": []
    },
    {
      "cell_type": "code",
      "source": [
        "import sqlite3\n",
        "\n",
        "def alter_and_update_restaurants(db_file):\n",
        "    conn = sqlite3.connect(db_file)\n",
        "    cursor = conn.cursor()\n",
        "\n",
        "    try:\n",
        "        cursor.execute(\"\"\"\n",
        "            ALTER TABLE restaurants\n",
        "            ADD COLUMN restaurant_type TEXT;\n",
        "        \"\"\")\n",
        "\n",
        "        cursor.execute(\"\"\"\n",
        "            UPDATE restaurants SET restaurant_type = 'Casual Dining' WHERE cuisine = 'Italian';\n",
        "        \"\"\")\n",
        "\n",
        "        cursor.execute(\"\"\"\n",
        "            UPDATE restaurants SET restaurant_type = 'Fast Food' WHERE cuisine = 'Burger';\n",
        "        \"\"\")\n",
        "\n",
        "        cursor.execute(\"\"\"\n",
        "            UPDATE restaurants SET restaurant_type = 'Casual Dining' WHERE cuisine = 'Mexican';\n",
        "        \"\"\")\n",
        "\n",
        "        cursor.execute(\"\"\"\n",
        "            UPDATE restaurants SET restaurant_type = 'Casual Dining' WHERE cuisine = 'Indian';\n",
        "        \"\"\")\n",
        "\n",
        "        conn.commit()\n",
        "\n",
        "    except sqlite3.Error as e:\n",
        "        print(f\"An error occurred: {e}\")\n",
        "\n",
        "    finally:\n",
        "        conn.close()\n",
        "\n",
        "database_file = 'Jomato.db'\n",
        "alter_and_update_restaurants(database_file)"
      ],
      "metadata": {
        "id": "ufbCkVWayO3g"
      },
      "execution_count": 38,
      "outputs": []
    },
    {
      "cell_type": "code",
      "source": [
        "import sqlite3\n",
        "\n",
        "def display_restaurants_with_table_booking(db_file):\n",
        "    conn = sqlite3.connect(db_file)\n",
        "    cursor = conn.cursor()\n",
        "\n",
        "    try:\n",
        "        cursor.execute(\"\"\"\n",
        "            SELECT r.RestaurantName, r.cuisine, r.restaurant_type\n",
        "            FROM restaurants r\n",
        "            JOIN bookings b ON r.RestaurantID = b.restaurant_id\n",
        "            WHERE b.num_guests > 0\n",
        "            GROUP BY r.RestaurantID, r.RestaurantName, r.cuisine, r.restaurant_type;\n",
        "        \"\"\")\n",
        "        results = cursor.fetchall()\n",
        "\n",
        "        for row in results:\n",
        "            print(f\"Restaurant: {row[0]}, Type: {row[2]}, Cuisine: {row[1]}\")\n",
        "\n",
        "    except sqlite3.Error as e:\n",
        "        print(f\"An error occurred: {e}\")\n",
        "\n",
        "    finally:\n",
        "        conn.close()\n",
        "\n",
        "database_file = 'Jomato.db'\n",
        "display_restaurants_with_table_booking(database_file)"
      ],
      "metadata": {
        "id": "WNQKL-2yvVya"
      },
      "execution_count": 42,
      "outputs": []
    },
    {
      "cell_type": "markdown",
      "source": [
        "2. Create a transaction and update the cuisine type ‘Cafe’ to ‘Cafeteria’. Check the result and rollback it."
      ],
      "metadata": {
        "id": "UkN8EE2xy3fj"
      }
    },
    {
      "cell_type": "code",
      "source": [
        "import sqlite3\n",
        "\n",
        "def update_and_rollback_cuisine(db_file):\n",
        "    conn = sqlite3.connect(db_file)\n",
        "    cursor = conn.cursor()\n",
        "\n",
        "    try:\n",
        "        cursor.execute(\"BEGIN TRANSACTION\")\n",
        "\n",
        "        cursor.execute(\"UPDATE restaurants SET cuisine = 'Cafeteria' WHERE cuisine = 'Cafe'\")\n",
        "\n",
        "        cursor.execute(\"SELECT * FROM restaurants WHERE cuisine = 'Cafeteria'\")\n",
        "        updated_rows = cursor.fetchall()\n",
        "\n",
        "        conn.rollback()\n",
        "\n",
        "    except sqlite3.Error as e:\n",
        "        print(f\"An error occurred: {e}\")\n",
        "\n",
        "    finally:\n",
        "        conn.close()\n",
        "\n",
        "database_file = 'Jomato.db'\n",
        "update_and_rollback_cuisine(database_file)"
      ],
      "metadata": {
        "id": "oeNFkaurzEzw"
      },
      "execution_count": 43,
      "outputs": []
    },
    {
      "cell_type": "code",
      "source": [
        "conn = sqlite3.connect('Jomato.db')\n",
        "\n",
        "cursor = conn.execute(''' SELECT * FROM Restaurants; ''')\n",
        "\n",
        "for row in cursor:\n",
        "  print(row)"
      ],
      "metadata": {
        "id": "0urL__lkzdTW"
      },
      "execution_count": 46,
      "outputs": []
    },
    {
      "cell_type": "markdown",
      "source": [
        "3. Generate a row number column and find the top 5 areas with the highest rating of restaurants."
      ],
      "metadata": {
        "id": "BNmXuoJnzTv4"
      }
    },
    {
      "cell_type": "code",
      "source": [
        "import sqlite3\n",
        "\n",
        "def insert_high_rated_restaurants(db_file):\n",
        "    conn = sqlite3.connect(db_file)\n",
        "    cursor = conn.cursor()\n",
        "\n",
        "    try:\n",
        "\n",
        "        cursor.executemany(\"INSERT INTO Restaurants (RestaurantID, RestaurantName, Cuisine, Area, Rating, AvgCostForTwo, TableBooking, restaurant_type) VALUES (?, ?, ?, ?, ?, ?, ?, ?)\", [\n",
        "            (6, 'The French Bistro', 'French', 'Suburbia', 4.9, 80, 1, 'Fine Dining'),\n",
        "            (7, 'The Steakhouse', 'Steak', 'Suburbia', 4.8, 90, 1, 'Fine Dining'),\n",
        "        ])\n",
        "        conn.commit()\n",
        "        print(\"High-rated restaurants inserted successfully!\")\n",
        "\n",
        "    except sqlite3.Error as e:\n",
        "        print(f\"An error occurred: {e}\")\n",
        "\n",
        "    finally:\n",
        "        conn.close()\n",
        "\n",
        "database_file = 'Jomato.db'\n",
        "insert_high_rated_restaurants(database_file)\n",
        "\n",
        "top_5_areas_by_rating(database_file)"
      ],
      "metadata": {
        "colab": {
          "base_uri": "https://localhost:8080/"
        },
        "id": "I0Kv71SR0nl7",
        "outputId": "9a40693f-8739-4f76-a2b0-dcfa3117077a"
      },
      "execution_count": 50,
      "outputs": [
        {
          "output_type": "stream",
          "name": "stdout",
          "text": [
            "High-rated restaurants inserted successfully!\n",
            "Top 5 Areas with Highest Restaurant Ratings:\n",
            "Area: Suburbia, Average Rating: 4.85\n"
          ]
        }
      ]
    },
    {
      "cell_type": "code",
      "source": [
        "import sqlite3\n",
        "\n",
        "def top_5_areas_by_rating(db_file):\n",
        "    conn = sqlite3.connect(db_file)\n",
        "    cursor = conn.cursor()\n",
        "\n",
        "    try:\n",
        "        cursor.execute(\"\"\"\n",
        "            SELECT Area, AVG(Rating) as AvgRating,\n",
        "                   ROW_NUMBER() OVER (ORDER BY AVG(Rating) DESC) as RowNum\n",
        "            FROM Restaurants\n",
        "            GROUP BY Area\n",
        "            ORDER BY AvgRating DESC\n",
        "            LIMIT 5;\n",
        "        \"\"\")\n",
        "        results = cursor.fetchall()\n",
        "\n",
        "        print(\"Top 5 Areas with Highest Restaurant Ratings:\")\n",
        "        for row in results:\n",
        "            print(f\"Area: {row[0]}, Average Rating: {row[1]:.2f}\")\n",
        "\n",
        "    except sqlite3.Error as e:\n",
        "        print(f\"An error occurred: {e}\")\n",
        "\n",
        "    finally:\n",
        "        conn.close()\n",
        "\n",
        "database_file = 'Jomato.db'\n",
        "top_5_areas_by_rating(database_file)"
      ],
      "metadata": {
        "colab": {
          "base_uri": "https://localhost:8080/"
        },
        "id": "sfIfs3eFzehR",
        "outputId": "fc91c2be-3f9d-4d01-ef05-00e1bcf95ce7"
      },
      "execution_count": 51,
      "outputs": [
        {
          "output_type": "stream",
          "name": "stdout",
          "text": [
            "Top 5 Areas with Highest Restaurant Ratings:\n",
            "Area: Suburbia, Average Rating: 4.85\n"
          ]
        }
      ]
    },
    {
      "cell_type": "markdown",
      "source": [
        "4. Use the while loop to display the 1 to 50"
      ],
      "metadata": {
        "id": "25R1ILCo1HUh"
      }
    },
    {
      "cell_type": "code",
      "source": [
        "count = 1\n",
        "\n",
        "while count <= 50:\n",
        "    print(count)\n",
        "    count += 1\n"
      ],
      "metadata": {
        "colab": {
          "base_uri": "https://localhost:8080/"
        },
        "id": "9jR-4nZQ1Mjt",
        "outputId": "dc20fccc-061f-47b5-fb87-df486766d82d"
      },
      "execution_count": 52,
      "outputs": [
        {
          "output_type": "stream",
          "name": "stdout",
          "text": [
            "1\n",
            "2\n",
            "3\n",
            "4\n",
            "5\n",
            "6\n",
            "7\n",
            "8\n",
            "9\n",
            "10\n",
            "11\n",
            "12\n",
            "13\n",
            "14\n",
            "15\n",
            "16\n",
            "17\n",
            "18\n",
            "19\n",
            "20\n",
            "21\n",
            "22\n",
            "23\n",
            "24\n",
            "25\n",
            "26\n",
            "27\n",
            "28\n",
            "29\n",
            "30\n",
            "31\n",
            "32\n",
            "33\n",
            "34\n",
            "35\n",
            "36\n",
            "37\n",
            "38\n",
            "39\n",
            "40\n",
            "41\n",
            "42\n",
            "43\n",
            "44\n",
            "45\n",
            "46\n",
            "47\n",
            "48\n",
            "49\n",
            "50\n"
          ]
        }
      ]
    },
    {
      "cell_type": "markdown",
      "source": [
        "5. Write a query to Create a T op rating view to store the generated top 5 highest rating of restaurants"
      ],
      "metadata": {
        "id": "teodiN1X1XMS"
      }
    },
    {
      "cell_type": "code",
      "source": [
        "import sqlite3\n",
        "\n",
        "def create_top_rating_view(db_file):\n",
        "    conn = sqlite3.connect(db_file)\n",
        "    cursor = conn.cursor()\n",
        "\n",
        "    try:\n",
        "        cursor.execute(\"\"\"\n",
        "            CREATE VIEW Top_Rating_Restaurants AS\n",
        "            SELECT RestaurantName, Rating\n",
        "            FROM Restaurants\n",
        "            ORDER BY Rating DESC\n",
        "            LIMIT 5;\n",
        "        \"\"\")\n",
        "        conn.commit()\n",
        "        print(\"Top_Rating_Restaurants view created successfully!\")\n",
        "\n",
        "    except sqlite3.Error as e:\n",
        "        print(f\"An error occurred: {e}\")\n",
        "\n",
        "    finally:\n",
        "        conn.close()\n",
        "\n",
        "database_file = 'Jomato.db'\n",
        "create_top_rating_view(database_file)"
      ],
      "metadata": {
        "colab": {
          "base_uri": "https://localhost:8080/"
        },
        "id": "XK3oQcpZ1dqn",
        "outputId": "1fffd086-afea-4292-cc82-44f5777297ab"
      },
      "execution_count": 53,
      "outputs": [
        {
          "output_type": "stream",
          "name": "stdout",
          "text": [
            "Top_Rating_Restaurants view created successfully!\n"
          ]
        }
      ]
    },
    {
      "cell_type": "markdown",
      "source": [
        "6. Write a trigger that sends an email notification to the restaurant owner whenever a new record is inserted"
      ],
      "metadata": {
        "id": "RMDkcLAN1pvs"
      }
    },
    {
      "cell_type": "code",
      "source": [
        "import sqlite3\n",
        "import smtplib\n",
        "from email.mime.text import MIMEText\n",
        "\n",
        "def send_email_notification():\n",
        "       sender_email = \"mahi@gmail.com\"\n",
        "       sender_password = \"abcXXX\"\n",
        "       receiver_email = \"ashok@gmail.com\"\n",
        "\n",
        "       msg = MIMEText(\"A new order has been placed!\")\n",
        "       msg[\"Subject\"] = \"New Order Notification\"\n",
        "       msg[\"From\"] = sender_email\n",
        "       msg[\"To\"] = receiver_email\n",
        "\n",
        "       with smtplib.SMTP_SSL(\"smtp.gmail.com\", 465) as server:\n",
        "           server.login(sender_email, sender_password)\n",
        "           server.sendmail(sender_email, receiver_email, msg.as_string())\n",
        "\n",
        "conn = sqlite3.connect(\"Jomato.db\")\n",
        "conn.create_function(\"send_email_notification\", 0, send_email_notification)\n",
        "conn.close()"
      ],
      "metadata": {
        "id": "i-4QZkqh2Avn"
      },
      "execution_count": 58,
      "outputs": []
    }
  ]
}
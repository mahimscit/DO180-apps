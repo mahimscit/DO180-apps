{
  "nbformat": 4,
  "nbformat_minor": 0,
  "metadata": {
    "colab": {
      "provenance": [],
      "authorship_tag": "ABX9TyPJsTLgHxY+mkVvkyRpMILy",
      "include_colab_link": true
    },
    "kernelspec": {
      "name": "python3",
      "display_name": "Python 3"
    },
    "language_info": {
      "name": "python"
    }
  },
  "cells": [
    {
      "cell_type": "markdown",
      "metadata": {
        "id": "view-in-github",
        "colab_type": "text"
      },
      "source": [
        "<a href=\"https://colab.research.google.com/github/mahimscit/DO180-apps/blob/master/CapstoneProject.ipynb\" target=\"_parent\"><img src=\"https://colab.research.google.com/assets/colab-badge.svg\" alt=\"Open In Colab\"/></a>"
      ]
    },
    {
      "cell_type": "markdown",
      "source": [
        "**Capstone Project(Netflix)**"
      ],
      "metadata": {
        "id": "7tjZjeayM70u"
      }
    },
    {
      "cell_type": "markdown",
      "source": [
        "Problem Statement:\n",
        "Customer Behaviour and it’s prediction lies\n",
        "at the core of every Business Model. From\n",
        "Stock Exchange, e-Commerce and\n",
        "Automobile to even Presidential Elections,\n",
        "predictions serve a great purpose. Most of\n",
        "these predictions are based on the data\n",
        "available about a person’s activity either\n",
        "online or in-person."
      ],
      "metadata": {
        "id": "AdxwDS2fPYTh"
      }
    },
    {
      "cell_type": "code",
      "execution_count": null,
      "metadata": {
        "colab": {
          "base_uri": "https://localhost:8080/"
        },
        "id": "X-1G7n-LMxtK",
        "outputId": "faf16748-df9d-4e48-83cc-e188f96cb83f"
      },
      "outputs": [
        {
          "output_type": "stream",
          "name": "stdout",
          "text": [
            "Requirement already satisfied: pandas in /usr/local/lib/python3.10/dist-packages (2.2.2)\n",
            "Requirement already satisfied: scikit-learn in /usr/local/lib/python3.10/dist-packages (1.6.0)\n",
            "Requirement already satisfied: numpy>=1.22.4 in /usr/local/lib/python3.10/dist-packages (from pandas) (1.26.4)\n",
            "Requirement already satisfied: python-dateutil>=2.8.2 in /usr/local/lib/python3.10/dist-packages (from pandas) (2.8.2)\n",
            "Requirement already satisfied: pytz>=2020.1 in /usr/local/lib/python3.10/dist-packages (from pandas) (2024.2)\n",
            "Requirement already satisfied: tzdata>=2022.7 in /usr/local/lib/python3.10/dist-packages (from pandas) (2024.2)\n",
            "Requirement already satisfied: scipy>=1.6.0 in /usr/local/lib/python3.10/dist-packages (from scikit-learn) (1.13.1)\n",
            "Requirement already satisfied: joblib>=1.2.0 in /usr/local/lib/python3.10/dist-packages (from scikit-learn) (1.4.2)\n",
            "Requirement already satisfied: threadpoolctl>=3.1.0 in /usr/local/lib/python3.10/dist-packages (from scikit-learn) (3.5.0)\n",
            "Requirement already satisfied: six>=1.5 in /usr/local/lib/python3.10/dist-packages (from python-dateutil>=2.8.2->pandas) (1.17.0)\n"
          ]
        }
      ],
      "source": [
        "pip install pandas scikit-learn"
      ]
    },
    {
      "cell_type": "code",
      "source": [
        "#Customer Purchase Prediction\n",
        "\n",
        "import pandas as pd\n",
        "from sklearn.model_selection import train_test_split\n",
        "from sklearn.preprocessing import StandardScaler\n",
        "from sklearn.linear_model import LogisticRegression\n",
        "from sklearn.metrics import accuracy_score, confusion_matrix, classification_report\n",
        "\n",
        "data = {\n",
        "    'Age': [25, 34, 45, 23, 35, 50, 28, 40, 33, 29],\n",
        "    'Annual_Income': [50000, 60000, 70000, 45000, 80000, 100000, 55000, 65000, 48000, 72000],\n",
        "    'Num_Transactions': [5, 7, 3, 8, 9, 6, 4, 5, 7, 6],\n",
        "    'Has_Purchased': [1, 1, 0, 1, 1, 0, 1, 0, 1, 0]  # 1 = Purchased, 0 = Not Purchased\n",
        "}\n",
        "\n",
        "df = pd.DataFrame(data)\n",
        "\n",
        "X = df[['Age', 'Annual_Income', 'Num_Transactions']]\n",
        "y = df['Has_Purchased']\n",
        "\n",
        "X_train, X_test, y_train, y_test = train_test_split(X, y, test_size=0.2, random_state=42)\n",
        "\n",
        "scaler = StandardScaler()\n",
        "X_train_scaled = scaler.fit_transform(X_train)\n",
        "X_test_scaled = scaler.transform(X_test)\n",
        "\n",
        "model = LogisticRegression()\n",
        "\n",
        "model.fit(X_train_scaled, y_train)\n",
        "\n",
        "y_pred = model.predict(X_test_scaled)\n",
        "\n",
        "accuracy = accuracy_score(y_test, y_pred)\n",
        "conf_matrix = confusion_matrix(y_test, y_pred)\n",
        "class_report = classification_report(y_test, y_pred)\n",
        "\n",
        "print(f'Accuracy: {accuracy:.2f}')\n",
        "print('Confusion Matrix:')\n",
        "print(conf_matrix)\n",
        "print('Classification Report:')\n",
        "print(class_report)\n",
        "\n",
        "new_customer = pd.DataFrame({\n",
        "    'Age': [30],\n",
        "    'Annual_Income': [75000],\n",
        "    'Num_Transactions': [6]\n",
        "})\n",
        "\n",
        "new_customer_scaled = scaler.transform(new_customer)\n",
        "\n",
        "purchase_prediction = model.predict(new_customer_scaled)\n",
        "print(f'Will the new customer purchase? {\"Yes\" if purchase_prediction[0] == 1 else \"No\"}')\n"
      ],
      "metadata": {
        "colab": {
          "base_uri": "https://localhost:8080/"
        },
        "id": "ciEgqKHhPyhs",
        "outputId": "734f21d8-5ce4-4a1e-f775-5e5593edb86e"
      },
      "execution_count": null,
      "outputs": [
        {
          "output_type": "stream",
          "name": "stdout",
          "text": [
            "Accuracy: 1.00\n",
            "Confusion Matrix:\n",
            "[[2]]\n",
            "Classification Report:\n",
            "              precision    recall  f1-score   support\n",
            "\n",
            "           1       1.00      1.00      1.00         2\n",
            "\n",
            "    accuracy                           1.00         2\n",
            "   macro avg       1.00      1.00      1.00         2\n",
            "weighted avg       1.00      1.00      1.00         2\n",
            "\n",
            "Will the new customer purchase? Yes\n"
          ]
        },
        {
          "output_type": "stream",
          "name": "stderr",
          "text": [
            "/usr/local/lib/python3.10/dist-packages/sklearn/metrics/_classification.py:407: UserWarning: A single label was found in 'y_true' and 'y_pred'. For the confusion matrix to have the correct shape, use the 'labels' parameter to pass all known labels.\n",
            "  warnings.warn(\n"
          ]
        }
      ]
    },
    {
      "cell_type": "markdown",
      "source": [
        "Problem Statement: Recommendation Engines are the much\n",
        "needed manifestations of the desired\n",
        "Predictability of User Activity.\n",
        "Recommendation Engines move one step\n",
        "further and not only give information but\n",
        "put forth strategies to further increase users\n",
        "interaction with the platform."
      ],
      "metadata": {
        "id": "cDOxD_c0QNVo"
      }
    },
    {
      "cell_type": "code",
      "source": [
        "#Collaborative Filtering Recommendation Engine\n",
        "import pandas as pd\n",
        "\n",
        "data = {\n",
        "    'item_id': [1, 2, 3, 4, 5, 1, 2, 3, 4, 5, 1, 2, 3, 4, 5],\n",
        "    'user_id': [1, 1, 2, 2, 3, 3, 4, 4, 5, 5, 6, 6, 7, 7, 8],\n",
        "    'rating': [5, 3, 4, 5, 2, 4, 3, 5, 4, 2, 5, 4, 3, 5, 4]\n",
        "}\n",
        "\n",
        "df = pd.DataFrame(data)\n",
        "\n",
        "item_popularity = df.groupby('item_id')['rating'].mean().sort_values(ascending=False)\n",
        "\n",
        "def get_recommendations(top_n=3):\n",
        "    return item_popularity.head(top_n).index.tolist()\n",
        "\n",
        "recommendations = get_recommendations()\n",
        "print(f\"Top 3 recommendations: {recommendations}\")  # Output: [1, 3, 2]"
      ],
      "metadata": {
        "colab": {
          "base_uri": "https://localhost:8080/"
        },
        "id": "ceA9SdCYQcDm",
        "outputId": "9a333bb0-d57e-406e-a39a-b1c704aed13a"
      },
      "execution_count": null,
      "outputs": [
        {
          "output_type": "stream",
          "name": "stdout",
          "text": [
            "Top 3 recommendations: [1, 4, 3]\n"
          ]
        }
      ]
    },
    {
      "cell_type": "markdown",
      "source": [
        "Problem Statement: In today’s world OTT platform and Streaming\n",
        "Services have taken up a big chunk in the\n",
        "Retail and Entertainment industry.\n",
        "Organizations like Netflix, Amazon etc.\n",
        "analyse User Activity Pattern’s and suggest\n",
        "products that better suit the user needs and\n",
        "choices."
      ],
      "metadata": {
        "id": "d03TntqlR9N_"
      }
    },
    {
      "cell_type": "code",
      "source": [
        "#OTT User Analysis\n",
        "import pandas as pd\n",
        "from sklearn.feature_extraction.text import TfidfVectorizer\n",
        "from sklearn.metrics.pairwise import cosine_similarity\n",
        "\n",
        "data = {\n",
        "    'item_id': ['Stranger Things', 'The Crown', 'The Witcher', 'Bridgerton', 'Ozark'],\n",
        "    'item_description': [\n",
        "        'Sci-fi horror series about a group of friends who encounter supernatural forces.',\n",
        "        'Historical drama series about the reign of Queen Elizabeth II.',\n",
        "        'Fantasy series based on the novels of the same name.',\n",
        "        'Romance series set in Regency England.',\n",
        "        'Crime drama series about a family involved in money laundering.'\n",
        "    ],\n",
        "    'genres': ['Sci-Fi, Horror, Drama', 'Drama, History', 'Fantasy, Drama, Action',\n",
        "               'Romance, Drama, Period', 'Crime, Drama, Thriller']\n",
        "}\n",
        "\n",
        "df = pd.DataFrame(data)\n",
        "\n",
        "df['content'] = df['item_description'] + ' ' + df['genres']\n",
        "\n",
        "vectorizer = TfidfVectorizer(stop_words='english')\n",
        "\n",
        "tfidf_matrix = vectorizer.fit_transform(df['content'])\n",
        "\n",
        "cosine_sim = cosine_similarity(tfidf_matrix)\n",
        "\n",
        "def get_recommendations(item_id, top_n=3):\n",
        "    item_index = df.index[df['item_id'] == item_id][0]\n",
        "\n",
        "    sim_scores = list(enumerate(cosine_sim[item_index]))\n",
        "\n",
        "    sim_scores = sorted(sim_scores, key=lambda x: x[1], reverse=True)\n",
        "\n",
        "    sim_scores = sim_scores[1:top_n + 1]\n",
        "\n",
        "    recommendations = [df['item_id'][i] for i, _ in sim_scores]\n",
        "\n",
        "    return recommendations\n",
        "\n",
        "recommendations = get_recommendations('Stranger Things')\n",
        "print(f\"Recommendations for Stranger Things: {recommendations}\")\n"
      ],
      "metadata": {
        "colab": {
          "base_uri": "https://localhost:8080/"
        },
        "id": "SzFVgrYNSNKR",
        "outputId": "89821880-7b3a-43e1-8d72-fdc744846744"
      },
      "execution_count": null,
      "outputs": [
        {
          "output_type": "stream",
          "name": "stdout",
          "text": [
            "Recommendations for Stranger Things: ['The Crown', 'Ozark', 'The Witcher']\n"
          ]
        }
      ]
    },
    {
      "cell_type": "markdown",
      "source": [
        "Problem Statement: For the purpose of this Project we will be\n",
        "creating one such Recommendation Engine\n",
        "from the ground-up, where every single user,\n",
        "based on there area of interest and ratings,\n",
        "would be recommended a list of movies that\n",
        "are best suited for them."
      ],
      "metadata": {
        "id": "UJN5xiVgZXa0"
      }
    },
    {
      "cell_type": "code",
      "source": [
        "#Movie Recommendation Engine Based on User Interests and Ratings\n",
        "\n",
        "import pandas as pd\n",
        "from sklearn.metrics.pairwise import cosine_similarity\n",
        "\n",
        "ratings = {\n",
        "    'user_id': [1, 1, 2, 2, 3, 3, 4, 4, 5, 5],\n",
        "    'movie_id': [1, 3, 2, 4, 1, 5, 3, 4, 2, 5],\n",
        "    'rating': [5, 4, 3, 5, 3, 4, 4, 5, 4, 3]\n",
        "}\n",
        "ratings_df = pd.DataFrame(ratings)\n",
        "\n",
        "movies = {\n",
        "    'movie_id': [1, 2, 3, 4, 5],\n",
        "    'title': ['The Shawshank Redemption', 'The Godfather', 'The Dark Knight', 'Pulp Fiction', '12 Angry Men']\n",
        "}\n",
        "movies_df = pd.DataFrame(movies)\n",
        "\n",
        "user_item_matrix = ratings_df.pivot_table(index='user_id', columns='movie_id', values='rating', fill_value=0)\n",
        "\n",
        "user_similarity = cosine_similarity(user_item_matrix)\n",
        "\n",
        "def get_recommendations(user_id, top_n=5):\n",
        "\n",
        "    similar_users = pd.Series(user_similarity[user_id - 1], index=user_item_matrix.index).sort_values(ascending=False)\n",
        "    similar_users = similar_users[similar_users.index != user_id]\n",
        "\n",
        "    recommendations = []\n",
        "    for similar_user_id, similarity_score in similar_users.items():\n",
        "        similar_user_ratings = user_item_matrix.loc[similar_user_id]\n",
        "        unrated_movies = similar_user_ratings[user_item_matrix.loc[user_id] == 0]\n",
        "        recommendations.extend(unrated_movies[unrated_movies > 3].index.tolist())\n",
        "\n",
        "    recommendations = pd.Series(recommendations).value_counts().head(top_n).index.tolist()\n",
        "    return movies_df[movies_df['movie_id'].isin(recommendations)]['title'].tolist()\n",
        "\n",
        "print(get_recommendations(1))\n",
        "\n",
        "print(get_recommendations(3))"
      ],
      "metadata": {
        "colab": {
          "base_uri": "https://localhost:8080/"
        },
        "id": "JjR9qFipZjWZ",
        "outputId": "8edc04a7-cea8-4023-a24a-f6d4aa1fcd4e"
      },
      "execution_count": null,
      "outputs": [
        {
          "output_type": "stream",
          "name": "stdout",
          "text": [
            "['The Godfather', 'Pulp Fiction', '12 Angry Men']\n",
            "['The Godfather', 'The Dark Knight', 'Pulp Fiction']\n"
          ]
        }
      ]
    },
    {
      "cell_type": "markdown",
      "source": [
        "DataSet Information - ID– Contains the separate keys for\n",
        "customer and movies.\n",
        "Rating– A section contains the user\n",
        "ratings for all the movies.\n",
        "Genre– Highlights the category of the\n",
        "movie.\n",
        "Movie Name– Name of the movie with\n",
        "respect to the movie id."
      ],
      "metadata": {
        "id": "-RPQtRHKb7TG"
      }
    },
    {
      "cell_type": "code",
      "source": [
        "import pandas as pd\n",
        "\n",
        "data = {\n",
        "    'CustomerID': [1, 2, 3, 4, 5, 1, 2, 3, 4, 5],\n",
        "    'MovieID': [101, 102, 103, 104, 105, 106, 107, 108, 109, 110],\n",
        "    'Rating': [5, 4, 3, 4, 5, 2, 3, 4, 5, 3],\n",
        "    'Genre': ['Action', 'Drama', 'Comedy', 'Action', 'Drama',\n",
        "              'Sci-Fi', 'Action', 'Comedy', 'Drama', 'Sci-Fi'],\n",
        "    'MovieName': ['The Matrix', 'The Godfather', 'The Dark Knight', 'Pulp Fiction', 'Forrest Gump',\n",
        "                  'Inception', 'Terminator', 'The Hangover', 'The Shawshank Redemption', 'Interstellar']\n",
        "}\n",
        "\n",
        "df = pd.DataFrame(data)\n",
        "\n",
        "print(df)\n"
      ],
      "metadata": {
        "colab": {
          "base_uri": "https://localhost:8080/"
        },
        "id": "sIuoYzl1cDfo",
        "outputId": "9d858fd8-14a1-4b60-97ba-862ea9f2ae81"
      },
      "execution_count": null,
      "outputs": [
        {
          "output_type": "stream",
          "name": "stdout",
          "text": [
            "   CustomerID  MovieID  Rating   Genre                 MovieName\n",
            "0           1      101       5  Action                The Matrix\n",
            "1           2      102       4   Drama             The Godfather\n",
            "2           3      103       3  Comedy           The Dark Knight\n",
            "3           4      104       4  Action              Pulp Fiction\n",
            "4           5      105       5   Drama              Forrest Gump\n",
            "5           1      106       2  Sci-Fi                 Inception\n",
            "6           2      107       3  Action                Terminator\n",
            "7           3      108       4  Comedy              The Hangover\n",
            "8           4      109       5   Drama  The Shawshank Redemption\n",
            "9           5      110       3  Sci-Fi              Interstellar\n"
          ]
        }
      ]
    },
    {
      "cell_type": "markdown",
      "source": [
        "1. Find out the list of most popular and liked genre\n",
        "2. Create Model that finds the best suited Movie for one\n",
        "user in every genre.\n",
        "3. Find what Genre Movies have received the best and\n",
        "worst ratings based on User Rating."
      ],
      "metadata": {
        "id": "fg3N4ixPcfml"
      }
    },
    {
      "cell_type": "code",
      "source": [
        "import pandas as pd\n",
        "\n",
        "df = pd.DataFrame(data)\n",
        "\n",
        "# Task 1:\n",
        "genre_popularity = df['Genre'].value_counts()\n",
        "\n",
        "genre_ratings = df.groupby('Genre')['Rating'].mean()\n",
        "\n",
        "print(\"Most Popular Genres (by count of movies):\")\n",
        "print(genre_popularity)\n",
        "\n",
        "print(\"\\nMost Liked Genres (by average rating):\")\n",
        "print(genre_ratings)\n",
        "\n",
        "# Task 2:\n",
        "def best_movie_for_user_in_genres(user_id, df):\n",
        "    user_data = df[df['CustomerID'] == user_id]\n",
        "    best_movies = {}\n",
        "\n",
        "    for genre in user_data['Genre'].unique():\n",
        "        genre_movies = user_data[user_data['Genre'] == genre]\n",
        "        best_movie = genre_movies.loc[genre_movies['Rating'].idxmax()]\n",
        "        best_movies[genre] = best_movie['MovieName']\n",
        "\n",
        "    return best_movies\n",
        "\n",
        "user_id = 1\n",
        "best_movies_for_user = best_movie_for_user_in_genres(user_id, df)\n",
        "print(f\"\\nBest Movies for User {user_id} in Every Genre:\")\n",
        "for genre, movie in best_movies_for_user.items():\n",
        "    print(f\"{genre}: {movie}\")\n",
        "\n",
        "# Task 3\n",
        "genre_avg_ratings = df.groupby('Genre')['Rating'].mean()\n",
        "\n",
        "best_genre = genre_avg_ratings.idxmax()\n",
        "worst_genre = genre_avg_ratings.idxmin()\n",
        "\n",
        "print(f\"\\nBest Genre (Highest Average Rating): {best_genre} with Rating: {genre_avg_ratings[best_genre]:.2f}\")\n",
        "print(f\"Worst Genre (Lowest Average Rating): {worst_genre} with Rating: {genre_avg_ratings[worst_genre]:.2f}\")\n"
      ],
      "metadata": {
        "colab": {
          "base_uri": "https://localhost:8080/"
        },
        "id": "Yq8W_vzccqlE",
        "outputId": "d1ce5095-70a3-4aa0-e916-b249643584fa"
      },
      "execution_count": null,
      "outputs": [
        {
          "output_type": "stream",
          "name": "stdout",
          "text": [
            "Most Popular Genres (by count of movies):\n",
            "Genre\n",
            "Action    3\n",
            "Drama     3\n",
            "Comedy    2\n",
            "Sci-Fi    2\n",
            "Name: count, dtype: int64\n",
            "\n",
            "Most Liked Genres (by average rating):\n",
            "Genre\n",
            "Action    4.000000\n",
            "Comedy    3.500000\n",
            "Drama     4.666667\n",
            "Sci-Fi    2.500000\n",
            "Name: Rating, dtype: float64\n",
            "\n",
            "Best Movies for User 1 in Every Genre:\n",
            "Action: The Matrix\n",
            "Sci-Fi: Inception\n",
            "\n",
            "Best Genre (Highest Average Rating): Drama with Rating: 4.67\n",
            "Worst Genre (Lowest Average Rating): Sci-Fi with Rating: 2.50\n"
          ]
        }
      ]
    }
  ]
}
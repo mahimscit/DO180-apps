{
  "nbformat": 4,
  "nbformat_minor": 0,
  "metadata": {
    "colab": {
      "provenance": [],
      "authorship_tag": "ABX9TyNkd+JtQIrg+HpO/wlqPrIS",
      "include_colab_link": true
    },
    "kernelspec": {
      "name": "python3",
      "display_name": "Python 3"
    },
    "language_info": {
      "name": "python"
    }
  },
  "cells": [
    {
      "cell_type": "markdown",
      "metadata": {
        "id": "view-in-github",
        "colab_type": "text"
      },
      "source": [
        "<a href=\"https://colab.research.google.com/github/mahimscit/DO180-apps/blob/master/SQL1.ipynb\" target=\"_parent\"><img src=\"https://colab.research.google.com/assets/colab-badge.svg\" alt=\"Open In Colab\"/></a>"
      ]
    },
    {
      "cell_type": "code",
      "execution_count": null,
      "metadata": {
        "id": "ZBcGFyl6bb1B"
      },
      "outputs": [],
      "source": [
        "# CREATING THE TABLE\n",
        "import sqlite3\n",
        "\n",
        "conn = sqlite3.connect('test.db')\n",
        "print(\"Opened database successfully\");\n",
        "\n",
        "conn.execute('''\n",
        "CREATE TABLE Salesman (\n",
        "    SalesmanId INT,\n",
        "    Name VARCHAR(255),\n",
        "    Commission DECIMAL(10, 2),\n",
        "    City VARCHAR(255),\n",
        "    Age INT\n",
        "); ''')\n",
        "conn.commit()\n",
        "\n",
        "print(\"Table created successfully\");\n",
        "\n",
        "\n"
      ]
    },
    {
      "cell_type": "code",
      "source": [
        "conn.execute(\"INSERT INTO Salesman VALUES(101, 'Joe', 50, 'California', 17);\")\n",
        "conn.execute(\"INSERT INTO Salesman VALUES(102, 'Simon', 75, 'Texas', 25);\")\n",
        "conn.execute(\"INSERT INTO Salesman VALUES(103, 'Jessie', 105, 'Florida', 35);\")\n",
        "conn.execute(\"INSERT INTO Salesman VALUES(104, 'Danny', 100, 'Texas', 22);\")\n",
        "conn.execute(\"INSERT INTO Salesman VALUES(105, 'Lia', 65, 'New Jersey', 30);\")\n",
        "\n",
        "conn.commit()\n"
      ],
      "metadata": {
        "id": "X-pk_9IPb3_-"
      },
      "execution_count": null,
      "outputs": []
    },
    {
      "cell_type": "code",
      "source": [
        "conn = sqlite3.connect('test.db')\n",
        "\n",
        "cursor = conn.execute(''' SELECT * FROM Salesman;''')\n",
        "\n",
        "for row in cursor:\n",
        "  print(row)"
      ],
      "metadata": {
        "colab": {
          "base_uri": "https://localhost:8080/"
        },
        "id": "LTTf6VL0dxnp",
        "outputId": "63f3df7b-58af-4ca2-cbd9-17137db27171"
      },
      "execution_count": null,
      "outputs": [
        {
          "output_type": "stream",
          "name": "stdout",
          "text": [
            "(101, 'Joe', 50, 'California', 17)\n",
            "(102, 'Simon', 75, 'Texas', 25)\n",
            "(103, 'Jessie', 105, 'Florida', 35)\n",
            "(104, 'Danny', 100, 'Texas', 22)\n",
            "(105, 'Lia', 65, 'New Jersey', 30)\n"
          ]
        }
      ]
    },
    {
      "cell_type": "code",
      "source": [
        "# CREATING THE TABLE\n",
        "import sqlite3\n",
        "\n",
        "conn = sqlite3.connect('test.db')\n",
        "print(\"Opened database successfully\");\n",
        "\n",
        "conn.execute('''\n",
        "CREATE TABLE Customer (\n",
        "    SalesmanId INT,\n",
        "    CustomerId INT,\n",
        "    CustomerName VARCHAR(255),\n",
        "    PurchaseAmount INT\n",
        "    ); ''')\n",
        "conn.commit()\n",
        "\n",
        "print(\"Table created successfully\");\n"
      ],
      "metadata": {
        "id": "PgZLZ1HeeJOO"
      },
      "execution_count": null,
      "outputs": []
    },
    {
      "cell_type": "code",
      "source": [
        "conn.execute(\"INSERT INTO Customer VALUES(101, 2345, 'Andrew', 550);\")\n",
        "conn.execute(\"INSERT INTO Customer VALUES(103, 1575, 'Lucky', 4500);\")\n",
        "conn.execute(\"INSERT INTO Customer VALUES(104, 2345, 'Andrew', 4000);\")\n",
        "conn.execute(\"INSERT INTO Customer VALUES(107, 3747, 'Remona', 2700);\")\n",
        "conn.execute(\"INSERT INTO Customer VALUES(110, 4004, 'Julia', 4545);\")\n",
        "\n",
        "conn.commit()"
      ],
      "metadata": {
        "id": "zLou7clWec3J"
      },
      "execution_count": null,
      "outputs": []
    },
    {
      "cell_type": "code",
      "source": [
        "conn = sqlite3.connect('test.db')\n",
        "\n",
        "cursor = conn.execute(''' SELECT * FROM Customer;''')\n",
        "\n",
        "for row in cursor:\n",
        "  print(row)"
      ],
      "metadata": {
        "colab": {
          "base_uri": "https://localhost:8080/"
        },
        "id": "hp9be_WhfUJ7",
        "outputId": "440056d7-4fd9-449a-c763-73353330eb35"
      },
      "execution_count": null,
      "outputs": [
        {
          "output_type": "stream",
          "name": "stdout",
          "text": [
            "(101, 2345, 'Andrew', 550)\n",
            "(103, 1575, 'Lucky', 4500)\n",
            "(104, 2345, 'Andrew', 4000)\n",
            "(107, 3747, 'Remona', 2700)\n",
            "(110, 4004, 'Julia', 4545)\n"
          ]
        }
      ]
    },
    {
      "cell_type": "code",
      "source": [
        "# CREATING THE TABLE\n",
        "import sqlite3\n",
        "\n",
        "conn = sqlite3.connect('test.db')\n",
        "print(\"Opened database successfully\");\n",
        "\n",
        "conn.execute('''\n",
        "CREATE TABLE Orders (OrderId int, CustomerId int, SalesmanId int, Orderdate Date, Amount money); ''')\n",
        "conn.commit()\n",
        "\n",
        "print(\"Table created successfully\");\n"
      ],
      "metadata": {
        "colab": {
          "base_uri": "https://localhost:8080/"
        },
        "id": "WSDuF3RhfmwW",
        "outputId": "67a5a439-fa0b-4399-ae33-85eeb2b2e287"
      },
      "execution_count": null,
      "outputs": [
        {
          "output_type": "stream",
          "name": "stdout",
          "text": [
            "Opened database successfully\n",
            "Table created successfully\n"
          ]
        }
      ]
    },
    {
      "cell_type": "code",
      "source": [
        "conn.execute(\"INSERT INTO Orders VALUES(5001,2345,101,'2021-07-01',550);\")\n",
        "conn.execute(\"INSERT INTO Orders VALUES(5003,1234,105,'2022-02-15',1500);\")\n",
        "\n",
        "conn.commit()"
      ],
      "metadata": {
        "id": "m9ME8uhigBTe"
      },
      "execution_count": null,
      "outputs": []
    },
    {
      "cell_type": "code",
      "source": [
        "conn = sqlite3.connect('test.db')\n",
        "\n",
        "cursor = conn.execute(''' SELECT * FROM Orders;''')\n",
        "\n",
        "for row in cursor:\n",
        "  print(row)"
      ],
      "metadata": {
        "colab": {
          "base_uri": "https://localhost:8080/"
        },
        "id": "E-uGI4Xygdus",
        "outputId": "1526521b-b537-4626-f302-7d925fb65d28"
      },
      "execution_count": null,
      "outputs": [
        {
          "output_type": "stream",
          "name": "stdout",
          "text": [
            "(5001, 2345, 101, '2021-07-01', 550)\n",
            "(5003, 1234, 105, '2022-02-15', 1500)\n"
          ]
        }
      ]
    },
    {
      "cell_type": "markdown",
      "source": [
        "\n",
        "1. Insert a new record in your Orders table.\n",
        "\n"
      ],
      "metadata": {
        "id": "U42RU2q7hLGO"
      }
    },
    {
      "cell_type": "code",
      "source": [
        "conn.execute(\"INSERT INTO Orders VALUES(5005,3747,108,'2023-12-01',750);\")\n",
        "conn.execute(\"INSERT INTO Orders VALUES(5007,4004,110,'2024-07-31',5600);\")\n",
        "\n",
        "conn.commit()"
      ],
      "metadata": {
        "id": "fuiANVtnhSND"
      },
      "execution_count": null,
      "outputs": []
    },
    {
      "cell_type": "code",
      "source": [
        "conn = sqlite3.connect('test.db')\n",
        "\n",
        "cursor = conn.execute(''' SELECT * FROM Orders;''')\n",
        "\n",
        "for row in cursor:\n",
        "  print(row)"
      ],
      "metadata": {
        "colab": {
          "base_uri": "https://localhost:8080/"
        },
        "id": "wbHuUrr8h6rW",
        "outputId": "527e827c-ca2b-4b68-9568-b2e34d7e7afc"
      },
      "execution_count": null,
      "outputs": [
        {
          "output_type": "stream",
          "name": "stdout",
          "text": [
            "(5001, 2345, 101, '2021-07-01', 550)\n",
            "(5003, 1234, 105, '2022-02-15', 1500)\n",
            "(5005, 3747, 108, '2023-12-01', 750)\n",
            "(5007, 4004, 110, '2024-07-31', 5600)\n"
          ]
        }
      ]
    },
    {
      "cell_type": "code",
      "source": [],
      "metadata": {
        "id": "QqjfVKFWh-9Q"
      },
      "execution_count": null,
      "outputs": []
    },
    {
      "cell_type": "markdown",
      "source": [
        "2. Add Primary key constraint for SalesmanId column in Salesman table. Add default\n",
        "constraint for City column in Salesman table. Add Foreign key constraint for SalesmanId\n",
        "column in Customer table. Add not null constraint in Customer_name column for the\n",
        "Customer table."
      ],
      "metadata": {
        "id": "KJJoGV3TiQgV"
      }
    },
    {
      "cell_type": "code",
      "source": [
        "import sqlite3\n",
        "conn = sqlite3.connect('test.db')\n",
        "cursor = conn.cursor()  # Create a new cursor object\n",
        "print(\"Opened database successfully\")\n",
        "\n",
        "# Adding Primary Key to Salesman Table\n",
        "# Use executescript for multiple statements\n",
        "cursor.executescript(\"\"\"\n",
        "PRAGMA foreign_keys=off;\n",
        "BEGIN TRANSACTION;\n",
        "ALTER TABLE Salesman RENAME TO Salesman_old;\n",
        "CREATE TABLE Salesman (\n",
        "    SalesmanId INT PRIMARY KEY,\n",
        "    Name VARCHAR(255),\n",
        "    Commission DECIMAL(10, 2),\n",
        "    City VARCHAR(255) DEFAULT 'Unknown',\n",
        "    Age INT\n",
        ");\n",
        "INSERT INTO Salesman SELECT * FROM Salesman_old;\n",
        "DROP TABLE Salesman_old;\n",
        "COMMIT;\n",
        "PRAGMA foreign_keys=on;\n",
        "\"\"\")\n",
        "\n",
        "# Adding Foreign Key and NOT NULL to Customer Table\n",
        "# Use executescript for multiple statements\n",
        "cursor.executescript(\"\"\"\n",
        "PRAGMA foreign_keys=off;\n",
        "BEGIN TRANSACTION;\n",
        "ALTER TABLE Customer RENAME TO Customer_old;\n",
        "CREATE TABLE Customer (\n",
        "    SalesmanId INT,\n",
        "    CustomerId INT,\n",
        "    CustomerName VARCHAR(255) NOT NULL,\n",
        "    PurchaseAmount INT,\n",
        "    FOREIGN KEY (SalesmanId) REFERENCES Salesman(SalesmanId)\n",
        "    );\n",
        "INSERT INTO Customer SELECT * FROM Customer_old;\n",
        "DROP TABLE Customer_old;\n",
        "COMMIT;\n",
        "PRAGMA foreign_keys=on;\n",
        "\"\"\")\n",
        "\n",
        "conn.commit()\n",
        "print(\"Table altered successfully\")"
      ],
      "metadata": {
        "colab": {
          "base_uri": "https://localhost:8080/"
        },
        "id": "-VUgdrg7k7So",
        "outputId": "e0c5dc8f-3da9-4f6f-87bd-f92dac44c756"
      },
      "execution_count": null,
      "outputs": [
        {
          "output_type": "stream",
          "name": "stdout",
          "text": [
            "Opened database successfully\n",
            "Table altered successfully\n"
          ]
        }
      ]
    },
    {
      "cell_type": "markdown",
      "source": [
        "3. Fetch the data where the Customer’s name is ending with ‘N’ also get the purchase\n",
        "amount value greater than 500."
      ],
      "metadata": {
        "id": "2euFQZXklEym"
      }
    },
    {
      "cell_type": "code",
      "source": [
        "import sqlite3\n",
        "\n",
        "conn = sqlite3.connect('test.db')\n",
        "cursor = conn.cursor()\n",
        "\n",
        "cursor.execute(\"SELECT * FROM Customer WHERE CustomerName LIKE '%n' AND PurchaseAmount > 500\")\n",
        "\n",
        "results = cursor.fetchall()\n",
        "for row in results:\n",
        "    print(row)"
      ],
      "metadata": {
        "id": "a_Kky9IzlK28"
      },
      "execution_count": null,
      "outputs": []
    },
    {
      "cell_type": "markdown",
      "source": [
        "4. Using SET operators, retrieve the first result with unique SalesmanId values from two\n",
        "tables, and the other result containing SalesmanId with duplicates from two tables."
      ],
      "metadata": {
        "id": "wYnNsRnVmymr"
      }
    },
    {
      "cell_type": "code",
      "source": [
        "import sqlite3\n",
        "\n",
        "# Connect to the database\n",
        "conn = sqlite3.connect('test.db')\n",
        "cursor = conn.cursor()\n",
        "\n",
        "# Query for unique SalesmanId values\n",
        "cursor.execute(\"SELECT SalesmanId FROM Salesman UNION SELECT SalesmanId FROM Customer\")\n",
        "unique_salesman_ids = cursor.fetchall()\n",
        "print(\"Unique SalesmanIds:\", unique_salesman_ids)\n",
        "\n",
        "# Query for SalesmanId with duplicates\n",
        "cursor.execute(\"SELECT SalesmanId FROM Salesman INTERSECT SELECT SalesmanId FROM Customer\")\n",
        "duplicate_salesman_ids = cursor.fetchall()\n",
        "print(\"Duplicate SalesmanIds:\", duplicate_salesman_ids)"
      ],
      "metadata": {
        "colab": {
          "base_uri": "https://localhost:8080/"
        },
        "id": "6tdgGuO2m3ZG",
        "outputId": "ed9c93e7-e6d2-4399-aeb0-0063cced2136"
      },
      "execution_count": null,
      "outputs": [
        {
          "output_type": "stream",
          "name": "stdout",
          "text": [
            "Unique SalesmanIds: [(101,), (102,), (103,), (104,), (105,), (107,), (110,)]\n",
            "Duplicate SalesmanIds: [(101,), (103,), (104,)]\n"
          ]
        }
      ]
    },
    {
      "cell_type": "markdown",
      "source": [
        "5. Display the below columns which has the matching data.\n",
        "Orderdate, Salesman Name, Customer Name, Commission, and City which has the\n",
        "range of Purchase Amount between 500 to 1500."
      ],
      "metadata": {
        "id": "lLKF8ddXnVc_"
      }
    },
    {
      "cell_type": "code",
      "source": [
        "import sqlite3\n",
        "\n",
        "conn = sqlite3.connect('test.db')\n",
        "cursor = conn.cursor()\n",
        "\n",
        "# SQL query to join tables and filter data\n",
        "query = \"\"\"\n",
        "SELECT o.Orderdate, s.Name AS SalesmanName, c.CustomerName, s.Commission, s.City\n",
        "FROM Orders AS o\n",
        "JOIN Customer AS c ON o.CustomerId = c.CustomerId\n",
        "JOIN Salesman AS s ON o.SalesmanId = s.SalesmanId\n",
        "WHERE c.PurchaseAmount BETWEEN 500 AND 1500;\n",
        "\"\"\"\n",
        "\n",
        "cursor.execute(query)\n",
        "results = cursor.fetchall()\n",
        "\n",
        "# Print the results\n",
        "for row in results:\n",
        "    print(row)"
      ],
      "metadata": {
        "colab": {
          "base_uri": "https://localhost:8080/"
        },
        "id": "lQfkYtqDncWR",
        "outputId": "fa3e2acd-bdd8-4b8a-fa13-133ff722bdf9"
      },
      "execution_count": null,
      "outputs": [
        {
          "output_type": "stream",
          "name": "stdout",
          "text": [
            "('2021-07-01', 'Joe', 'Andrew', 50, 'California')\n"
          ]
        }
      ]
    },
    {
      "cell_type": "markdown",
      "source": [
        "6. Using right join fetch all the results from Salesman and Orders table."
      ],
      "metadata": {
        "id": "ijLMr7l4nmyW"
      }
    },
    {
      "cell_type": "code",
      "source": [
        "import sqlite3\n",
        "\n",
        "conn = sqlite3.connect('test.db')\n",
        "cursor = conn.cursor()\n",
        "\n",
        "# SQL query with LEFT JOIN to simulate RIGHT JOIN\n",
        "# Switch the order of tables and use LEFT JOIN\n",
        "query = \"\"\"\n",
        "SELECT *\n",
        "FROM Orders AS o\n",
        "LEFT JOIN Salesman AS s ON s.SalesmanId = o.SalesmanId;\n",
        "\"\"\"\n",
        "#The above query uses a LEFT JOIN instead of a RIGHT JOIN.\n",
        "#To achieve the same result as a RIGHT JOIN, the order of the tables in the FROM clause has been reversed, and a LEFT JOIN is used.\n",
        "#This way, all rows from the Orders table will be included, and matching rows from the Salesman table will be joined. If there's no match in the Salesman table, the columns from Salesman will have NULL values.\n",
        "\n",
        "\n",
        "cursor.execute(query)\n",
        "results = cursor.fetchall()\n",
        "\n",
        "# Print the results\n",
        "for row in results:\n",
        "    print(row)"
      ],
      "metadata": {
        "colab": {
          "base_uri": "https://localhost:8080/"
        },
        "id": "5ko_tmH9nsww",
        "outputId": "b4733613-7cfa-484d-c799-36683f9eb06d"
      },
      "execution_count": null,
      "outputs": [
        {
          "output_type": "stream",
          "name": "stdout",
          "text": [
            "(5001, 2345, 101, '2021-07-01', 550, 101, 'Joe', 50, 'California', 17)\n",
            "(5003, 1234, 105, '2022-02-15', 1500, 105, 'Lia', 65, 'New Jersey', 30)\n",
            "(5005, 3747, 108, '2023-12-01', 750, None, None, None, None, None)\n",
            "(5007, 4004, 110, '2024-07-31', 5600, None, None, None, None, None)\n"
          ]
        }
      ]
    },
    {
      "cell_type": "code",
      "source": [],
      "metadata": {
        "id": "Danc179dqFSY"
      },
      "execution_count": null,
      "outputs": []
    }
  ]
}